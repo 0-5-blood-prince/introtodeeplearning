{
  "nbformat": 4,
  "nbformat_minor": 0,
  "metadata": {
    "colab": {
      "name": "Lab1_Part1.ipynb",
      "version": "0.3.2",
      "provenance": []
    },
    "kernelspec": {
      "display_name": "Python 2",
      "language": "python",
      "name": "python2"
    }
  },
  "cells": [
    {
      "metadata": {
        "id": "57knM8jrYZ2t",
        "colab_type": "text"
      },
      "cell_type": "markdown",
      "source": [
        "# Lab 1: Intro to TensorFlow and Music Generation with RNNs\n",
        "# Part 1: Intro to TensorFlow"
      ]
    },
    {
      "metadata": {
        "id": "OhuYRQfjYZ2v",
        "colab_type": "text"
      },
      "cell_type": "markdown",
      "source": [
        "TensorFlow is a software library extensively used in machine learning. Here we'll learn how computations are represented and how to define simple neural networks in TensorFlow."
      ]
    },
    {
      "metadata": {
        "id": "ADAWfb9ihh7M",
        "colab_type": "code",
        "colab": {}
      },
      "cell_type": "code",
      "source": [
        "!pip install tf-nightly-gpu-2.0-preview"
      ],
      "execution_count": 0,
      "outputs": []
    },
    {
      "metadata": {
        "id": "LkaimNJfYZ2w",
        "colab_type": "code",
        "colab": {}
      },
      "cell_type": "code",
      "source": [
        "import tensorflow as tf\n",
        "import numpy as np\n",
        "import matplotlib.pyplot as plt"
      ],
      "execution_count": 0,
      "outputs": []
    },
    {
      "metadata": {
        "id": "zLLaY8hvdbvQ",
        "colab_type": "code",
        "colab": {}
      },
      "cell_type": "code",
      "source": [
        "is_correct_tf_version = '1.13.' in tf.__version__\n",
        "assert is_correct_tf_version, \"Wrong tensorflow version {} installed\".format(tf.__version__)\n",
        "\n",
        "is_eager_enabled = tf.executing_eagerly()\n",
        "assert is_eager_enabled,      \"Tensorflow eager mode is not enabled\""
      ],
      "execution_count": 0,
      "outputs": []
    },
    {
      "metadata": {
        "id": "iD3VO-LZYZ2z",
        "colab_type": "text"
      },
      "cell_type": "markdown",
      "source": [
        "## 1.1 The Computation Graph\n",
        "\n",
        "TensorFlow is called TensorFlow because it handles the flow (node/mathematical operation) of Tensors (data). You can think of a Tensor as a multidimensional array. In TensorFlow, computations are represented as graphs. TensorFlow programs are usually structured into a phase that assembles a graph, and a phase that uses a session to execute operations in the graph. In TensorFlow we define the computational graph with Tensors and mathematical operations to create a system for machine learning and deep learning.\n",
        "\n",
        "We can think of a computation graph as a series of math operations that occur in some order. First let's look at a simple example:\n",
        "\n",
        "![alt text](img/add-graph.png \"Computation Graph\")\n"
      ]
    },
    {
      "metadata": {
        "id": "X_YJrZsxYZ2z",
        "colab_type": "code",
        "colab": {
          "base_uri": "https://localhost:8080/",
          "height": 34
        },
        "outputId": "ac6fe2ae-4a0f-4bd3-abf7-a730062eef2f"
      },
      "cell_type": "code",
      "source": [
        "# create nodes in a graph\n",
        "a = tf.constant(15, name=\"a\")\n",
        "b = tf.constant(61, name=\"b\")\n",
        "\n",
        "# add them\n",
        "c = tf.add(a,b, name=\"c\")\n",
        "print(c)"
      ],
      "execution_count": 36,
      "outputs": [
        {
          "output_type": "stream",
          "text": [
            "tf.Tensor(76, shape=(), dtype=int32)\n"
          ],
          "name": "stdout"
        }
      ]
    },
    {
      "metadata": {
        "id": "mjYCF0EdYZ22",
        "colab_type": "text"
      },
      "cell_type": "markdown",
      "source": [
        "Notice that the output is still an abstract Tensor -- we've just created a computation graph consisting of operations. To actually get our result, we have to run a session to execute the graph. We'll do that next."
      ]
    },
    {
      "metadata": {
        "id": "Mbfv_QOiYZ23",
        "colab_type": "text"
      },
      "cell_type": "markdown",
      "source": [
        "### 1.1.1 Building and Executing the Computation Graph\n",
        "\n",
        "Consider the following computation graph:\n",
        "\n",
        "![alt text](img/computation-graph.png \"Computation Graph\")\n",
        "\n",
        "This graph takes 2 inputs, `a, b` and computes an output `e`. Each node in the graph is an operation that takes some input, does some computation, and passes its output to another node.\n",
        "\n",
        "Let's first construct this computation graph in TensorFlow:"
      ]
    },
    {
      "metadata": {
        "scrolled": true,
        "id": "PJnfzpWyYZ23",
        "colab_type": "code",
        "colab": {}
      },
      "cell_type": "code",
      "source": [
        "# define inputs \n",
        "a = tf.keras.Input(shape=(1,))\n",
        "b = tf.keras.Input(shape=(1,))\n",
        "\n",
        "'''TODO: Define the operation for c, d, e (use tf.add, tf.subtract, tf.multiply).'''\n",
        "c = tf.add(a, 1)\n",
        "d = tf.subtract(b, 1)\n",
        "e = tf.multiply(c, d)"
      ],
      "execution_count": 0,
      "outputs": []
    },
    {
      "metadata": {
        "id": "YNout6MQkGJ6",
        "colab_type": "code",
        "colab": {
          "base_uri": "https://localhost:8080/",
          "height": 51
        },
        "outputId": "ba6a3e3c-227f-4fa5-ea7a-4200c07563d6"
      },
      "cell_type": "code",
      "source": [
        "x1 = tf.keras.Input(shape=())\n",
        "x2 = tf.keras.Input(shape=())\n",
        "y = tf.add(x1,1)\n",
        "z = tf.multiply(x2,3)\n",
        "model = tf.keras.Model(inputs=[x1,x2], outputs=[y,z])\n",
        "out_y, out_z = model([1.0, 2.0])\n",
        "print out_y.numpy()\n",
        "print out_z.numpy()"
      ],
      "execution_count": 68,
      "outputs": [
        {
          "output_type": "stream",
          "text": [
            "[2.]\n",
            "[6.]\n"
          ],
          "name": "stdout"
        }
      ]
    },
    {
      "metadata": {
        "id": "3xof_jaGYZ25",
        "colab_type": "text"
      },
      "cell_type": "markdown",
      "source": [
        "TensorFlow uses tf.placeholder to handle inputs to the model. tf.placeholder lets you specify that some input will be coming in, of some shape and some type. Only when you run the computation graph do you actually provide the values of this input data. \n",
        "\n",
        "Now, we can define a session and run our computation graph:\n"
      ]
    },
    {
      "metadata": {
        "scrolled": false,
        "id": "CVz3_RuEYZ26",
        "colab_type": "code",
        "colab": {}
      },
      "cell_type": "code",
      "source": [
        "with tf.Session() as session:\n",
        "    a_data, b_data = 2.0, 4.0\n",
        "    # define inputs\n",
        "    feed_dict = {a: a_data, b: b_data}\n",
        "    # pass data in and run the computation graph in a session\n",
        "    output = session.run([e], feed_dict=feed_dict)\n",
        "    print(output) # 18"
      ],
      "execution_count": 0,
      "outputs": []
    },
    {
      "metadata": {
        "id": "6HqgUIUhYZ29",
        "colab_type": "text"
      },
      "cell_type": "markdown",
      "source": [
        "Let's go through the execution above step-by-step. First, we used `feed_dict` to pass in the input data, and then used `session.run` to run the graph and grab the output from the operation in the graph. `e` is at the end of the graph, so we ran the entire graph and returned the result. "
      ]
    },
    {
      "metadata": {
        "id": "1h4o9Bb0YZ29",
        "colab_type": "text"
      },
      "cell_type": "markdown",
      "source": [
        "## 1.2 Neural Networks in TensorFlow\n",
        "We can define neural networks in TensorFlow using computation graphs. Here is an example of a very simple neural network (just 1 perceptron):\n",
        "\n",
        "![alt text](img/computation-graph-2.png \"Computation Graph\")\n",
        "\n",
        "This graph takes an input, (x) and computes an output (out). It does so how we learned in lecture today: `out = sigmoid(W*x+b)`.\n",
        "\n",
        "We could build this computation graph in TensorFlow in the following way:"
      ]
    },
    {
      "metadata": {
        "id": "15XR3EVsYZ29",
        "colab_type": "code",
        "colab": {}
      },
      "cell_type": "code",
      "source": [
        "n_input_nodes = 2\n",
        "n_output_nodes = 1\n",
        "x = tf.placeholder(tf.float32, (None, n_input_nodes))\n",
        "W = tf.Variable(tf.ones((n_input_nodes, n_output_nodes)), dtype=tf.float32)\n",
        "b = tf.Variable(tf.zeros(n_output_nodes), dtype=tf.float32)\n",
        "\n",
        "'''TODO: Define the operation for z (use tf.matmul).'''\n",
        "z = # TODO\n",
        "\n",
        "'''TODO: Define the operation for out (use tf.sigmoid).'''\n",
        "out = # TODO"
      ],
      "execution_count": 0,
      "outputs": []
    },
    {
      "metadata": {
        "id": "Jt1FgM7qYZ3D",
        "colab_type": "text"
      },
      "cell_type": "markdown",
      "source": [
        "As with the previous example, we can use `session.run()` to execute this computation graph, and use a `feed_dict` to feed in our input:"
      ]
    },
    {
      "metadata": {
        "id": "oOPE0iBhYZ3E",
        "colab_type": "code",
        "colab": {}
      },
      "cell_type": "code",
      "source": [
        "test_input = [[0.25, 0.15]]\n",
        "graph=tf.Graph()\n",
        "with tf.Session() as session:\n",
        "    tf.global_variables_initializer().run(session=session)\n",
        "    ''' TODO: Define the input'''\n",
        "    feed_dict = ## TODO \n",
        "    ''' TODO: Run the session and get the output of the perceptron!'''\n",
        "    output = ## TODO\n",
        "    print(output[0]) # This should output 0.59868765. \n"
      ],
      "execution_count": 0,
      "outputs": []
    },
    {
      "metadata": {
        "collapsed": true,
        "id": "UxBEH9__YZ3G",
        "colab_type": "text"
      },
      "cell_type": "markdown",
      "source": [
        "## 1.3 Eager execution\n",
        "\n",
        "The 6.S191 team is **Eager** to show you one of the coolest recent developments in TensorFlow: Eager execution. Eager is an experimental interface to TensorFlow that provides an imperative programming style. When you enable Eager execution, TensorFlow operations execute immediately as they're called from Python. That means you do not execute a pre-constructed graph with `Session.run()`. This allows for fast debugging and a more intuitive way to get started with TensorFlow."
      ]
    },
    {
      "metadata": {
        "id": "3oWpEMtmYZ3I",
        "colab_type": "text"
      },
      "cell_type": "markdown",
      "source": [
        "First, we must enable Eager execution. When we do this, operations will execute and return their values immediately. Some things to note:\n",
        "\n",
        "- We will need to restart the Python kernel since we have already used TensorFlow in graph mode. \n",
        "- We enable eager at program startup using: `tfe.enable_eager_execution()`.\n",
        "- Once we enable Eager with `tfe.enable_eager_execution()`, it cannot be turned off. To get back to graph mode, start a new Python session."
      ]
    },
    {
      "metadata": {
        "id": "Iew5VFM0YZ3I",
        "colab_type": "text"
      },
      "cell_type": "markdown",
      "source": [
        "### 1.3.1 How is Eager Different?\n",
        "Before we get started with Eager, let's see what happens when we define a simple operation in graph mode:"
      ]
    },
    {
      "metadata": {
        "scrolled": true,
        "id": "I5BO0X_-YZ3J",
        "colab_type": "code",
        "colab": {}
      },
      "cell_type": "code",
      "source": [
        "print(tf.add(1, 2))"
      ],
      "execution_count": 0,
      "outputs": []
    },
    {
      "metadata": {
        "id": "wx3hxa_7YZ3L",
        "colab_type": "text"
      },
      "cell_type": "markdown",
      "source": [
        "This tells us that we're just building a computation graph with the above operation, and not actually executing anything. Let's see how Eager is different. We restart the Python kernel and start Eager execution. \n",
        "**This command will cause your kernel to die but this is okay since we are restarting.**"
      ]
    },
    {
      "metadata": {
        "id": "vLp5FzgaYZ3L",
        "colab_type": "code",
        "colab": {}
      },
      "cell_type": "code",
      "source": [
        "import os\n",
        "os._exit(00)"
      ],
      "execution_count": 0,
      "outputs": []
    },
    {
      "metadata": {
        "scrolled": true,
        "id": "ImXYv3ewYZ3N",
        "colab_type": "code",
        "colab": {}
      },
      "cell_type": "code",
      "source": [
        "import tensorflow.contrib.eager as tfe\n",
        "tfe.enable_eager_execution()\n",
        "import tensorflow as tf"
      ],
      "execution_count": 0,
      "outputs": []
    },
    {
      "metadata": {
        "id": "tJQQLsfLYZ3P",
        "colab_type": "text"
      },
      "cell_type": "markdown",
      "source": [
        "Let's run the same operation as before -- adding 1 and 2 -- in Eager mode:"
      ]
    },
    {
      "metadata": {
        "id": "Btsl82UtYZ3P",
        "colab_type": "code",
        "colab": {}
      },
      "cell_type": "code",
      "source": [
        "print(tf.add(1, 2))"
      ],
      "execution_count": 0,
      "outputs": []
    },
    {
      "metadata": {
        "id": "jlhxKLc4YZ3R",
        "colab_type": "text"
      },
      "cell_type": "markdown",
      "source": [
        "Cool! We just defined and executed an operation in TensorFlow immediately as it was called."
      ]
    },
    {
      "metadata": {
        "id": "5F1NWKIkYZ3S",
        "colab_type": "text"
      },
      "cell_type": "markdown",
      "source": [
        "### 1.3.2 Automatic Differentiation\n",
        "Automatic differentiation is very useful when implementing many machine learning algorithms such as backpropagation for training neural networks. For this purpose, TensorFlow Eager execution provides an [autograd](https://github.com/HIPS/autograd)\tstyle API for automatic differentiation."
      ]
    },
    {
      "metadata": {
        "id": "Pn8u_oWXYZ3S",
        "colab_type": "code",
        "colab": {}
      },
      "cell_type": "code",
      "source": [
        "def f(x):\n",
        "    # f(x) = x^2 + 3\n",
        "    return tf.multiply(x, x) + 3\n",
        "\n",
        "print( \"f(4) = %.2f\" % f(4.) )\n",
        "\n",
        "# First order derivative\n",
        "df = tfe.gradients_function(f) # tfe == eager mode\n",
        "print( \"df(4) = %.2f\" % df(4.)[0] )\n",
        "\n",
        "# Second order derivative\n",
        "'''TODO: fill in the expression for the second order derivative using Eager mode gradients'''\n",
        "d2f = # TODO\n",
        "print( \"d2f(4) = %.2f\" % d2f(4.)[0] )"
      ],
      "execution_count": 0,
      "outputs": []
    },
    {
      "metadata": {
        "id": "LQGVtoxwYZ3V",
        "colab_type": "text"
      },
      "cell_type": "markdown",
      "source": [
        "### 1.3.3 Dynamic Models\n",
        "\n",
        "Dynamic models can be built with Python flow control. Here's an example of the [Collatz conjecture](https://en.wikipedia.org/wiki/Collatz_conjecture) using TensorFlow’s arithmetic operations. Such dynamic behavior is not possible in standard TensorFlow (up to v1.4):"
      ]
    },
    {
      "metadata": {
        "id": "LCfX4kfRYZ3W",
        "colab_type": "code",
        "colab": {}
      },
      "cell_type": "code",
      "source": [
        "a = tf.constant(12)\n",
        "counter = 0\n",
        "while not tf.equal(a, 1):\n",
        "  if tf.equal(a % 2, 0):\n",
        "    a = a / 2\n",
        "  else:\n",
        "    a = 3 * a + 1\n",
        "  print(a)"
      ],
      "execution_count": 0,
      "outputs": []
    }
  ]
}