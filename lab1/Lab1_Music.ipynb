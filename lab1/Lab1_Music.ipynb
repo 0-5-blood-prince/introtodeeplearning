{
  "nbformat": 4,
  "nbformat_minor": 0,
  "metadata": {
    "colab": {
      "name": "Lab1_Music.ipynb",
      "version": "0.3.2",
      "provenance": [],
      "collapsed_sections": []
    },
    "kernelspec": {
      "name": "python2",
      "display_name": "Python 2"
    },
    "accelerator": "GPU"
  },
  "cells": [
    {
      "metadata": {
        "id": "O-97SDET3JG-",
        "colab_type": "text"
      },
      "cell_type": "markdown",
      "source": [
        "# Lab 1 : Intro to TensorFlow and Music Generation with RNNs\n",
        "\n",
        "# Part 2: Music Generation with RNNs\n",
        "\n",
        "In this portion of the lab, we will play around with building a Recurrent Neural Network (RNN) for music generation. We will train a model to learn the patterns in raw sheet music in [ABC notation](https://en.wikipedia.org/wiki/ABC_notation). "
      ]
    },
    {
      "metadata": {
        "id": "oJ4aiwAq3j6X",
        "colab_type": "text"
      },
      "cell_type": "markdown",
      "source": [
        "## 2.1 Dependencies \n",
        "Lets download the course repository and import the relevant packages we'll need for this lab."
      ]
    },
    {
      "metadata": {
        "id": "GW44BHHsw172",
        "colab_type": "code",
        "outputId": "48474c02-00a4-475a-ea14-b1daee4d6fc9",
        "colab": {
          "base_uri": "https://localhost:8080/",
          "height": 1436
        }
      },
      "cell_type": "code",
      "source": [
        "!wget https://developer.nvidia.com/compute/cuda/10.0/Prod/local_installers/cuda-repo-ubuntu1604-10-0-local-10.0.130-410.48_1.0-1_amd64 -O cuda-repo-ubuntu1604-10-0-local-10.0.130-410.48_1.0-1_amd64.deb\n",
        "!dpkg -i cuda-repo-ubuntu1604-10-0-local-10.0.130-410.48_1.0-1_amd64.deb\n",
        "!apt-key add /var/cuda-repo-10-0-local-10.0.130-410.48/7fa2af80.pub\n",
        "!apt-get update\n",
        "!apt-get install cuda\n",
        "!pip install tf-nightly-gpu-2.0-preview"
      ],
      "execution_count": 1,
      "outputs": [
        {
          "output_type": "stream",
          "text": [
            "--2019-01-21 00:34:56--  https://developer.nvidia.com/compute/cuda/10.0/Prod/local_installers/cuda-repo-ubuntu1604-10-0-local-10.0.130-410.48_1.0-1_amd64\n",
            "Resolving developer.nvidia.com (developer.nvidia.com)... 192.229.162.216\n",
            "Connecting to developer.nvidia.com (developer.nvidia.com)|192.229.162.216|:443... connected.\n",
            "HTTP request sent, awaiting response... 302 Found\n",
            "Location: https://developer.download.nvidia.com/compute/cuda/10.0/secure/Prod/local_installers/cuda-repo-ubuntu1604-10-0-local-10.0.130-410.48_1.0-1_amd64.deb?hDVdJdQb_0pn9PYx3ZkciE7jJA_YmEA15a-BJXqOvvL8pWJtAIVV53sMA8qhYWAIdjcauYFacA9W7SwBStFzI1sHAvHCSfo2fknpCaoDaNHDsZ7Mwure1rv20NXqjtC39QFu3Xy7D5K8UO1ePtfWDubMg3QVNZPj_0BxuiIHQ_zjwud_OplEB3SuO8GuseO3snbs23z2gJ--Jux8K4NvtGxFT_qjmP5eY8_mMH0 [following]\n",
            "--2019-01-21 00:34:56--  https://developer.download.nvidia.com/compute/cuda/10.0/secure/Prod/local_installers/cuda-repo-ubuntu1604-10-0-local-10.0.130-410.48_1.0-1_amd64.deb?hDVdJdQb_0pn9PYx3ZkciE7jJA_YmEA15a-BJXqOvvL8pWJtAIVV53sMA8qhYWAIdjcauYFacA9W7SwBStFzI1sHAvHCSfo2fknpCaoDaNHDsZ7Mwure1rv20NXqjtC39QFu3Xy7D5K8UO1ePtfWDubMg3QVNZPj_0BxuiIHQ_zjwud_OplEB3SuO8GuseO3snbs23z2gJ--Jux8K4NvtGxFT_qjmP5eY8_mMH0\n",
            "Resolving developer.download.nvidia.com (developer.download.nvidia.com)... 192.229.211.70, 2606:2800:21f:3aa:dcf:37b:1ed6:1fb\n",
            "Connecting to developer.download.nvidia.com (developer.download.nvidia.com)|192.229.211.70|:443... connected.\n",
            "HTTP request sent, awaiting response... 200 OK\n",
            "Length: 1698642702 (1.6G) [application/x-deb]\n",
            "Saving to: ‘cuda-repo-ubuntu1604-10-0-local-10.0.130-410.48_1.0-1_amd64.deb’\n",
            "\n",
            "cuda-repo-ubuntu160 100%[===================>]   1.58G   150MB/s    in 11s     \n",
            "\n",
            "2019-01-21 00:35:08 (142 MB/s) - ‘cuda-repo-ubuntu1604-10-0-local-10.0.130-410.48_1.0-1_amd64.deb’ saved [1698642702/1698642702]\n",
            "\n",
            "(Reading database ... 121634 files and directories currently installed.)\n",
            "Preparing to unpack cuda-repo-ubuntu1604-10-0-local-10.0.130-410.48_1.0-1_amd64.deb ...\n",
            "Unpacking cuda-repo-ubuntu1604-10-0-local-10.0.130-410.48 (1.0-1) over (1.0-1) ...\n",
            "Setting up cuda-repo-ubuntu1604-10-0-local-10.0.130-410.48 (1.0-1) ...\n",
            "OK\n",
            "Get:1 file:/var/cuda-repo-10-0-local-10.0.130-410.48  InRelease\n",
            "Ign:1 file:/var/cuda-repo-10-0-local-10.0.130-410.48  InRelease\n",
            "Get:2 file:/var/cuda-repo-10-0-local-10.0.130-410.48  Release [574 B]\n",
            "Get:2 file:/var/cuda-repo-10-0-local-10.0.130-410.48  Release [574 B]\n",
            "Ign:3 https://developer.download.nvidia.com/compute/cuda/repos/ubuntu1710/x86_64  InRelease\n",
            "Ign:4 https://developer.download.nvidia.com/compute/machine-learning/repos/ubuntu1604/x86_64  InRelease\n",
            "Hit:5 https://developer.download.nvidia.com/compute/cuda/repos/ubuntu1710/x86_64  Release\n",
            "Hit:6 https://developer.download.nvidia.com/compute/machine-learning/repos/ubuntu1604/x86_64  Release\n",
            "Hit:8 http://security.ubuntu.com/ubuntu bionic-security InRelease\n",
            "Hit:10 http://ppa.launchpad.net/graphics-drivers/ppa/ubuntu bionic InRelease\n",
            "Hit:11 http://archive.ubuntu.com/ubuntu bionic InRelease\n",
            "Hit:13 http://archive.ubuntu.com/ubuntu bionic-updates InRelease\n",
            "Hit:14 http://archive.ubuntu.com/ubuntu bionic-backports InRelease\n",
            "Reading package lists... Done\n",
            "Reading package lists... Done\n",
            "Building dependency tree       \n",
            "Reading state information... Done\n",
            "cuda is already the newest version (10.0.130-1).\n",
            "The following packages were automatically installed and are no longer required:\n",
            "  cuda-9-2 cuda-compiler-9-2 cuda-demo-suite-9-2 cuda-documentation-9-2\n",
            "  cuda-nsight-9-2 cuda-nvml-dev-9-2 cuda-nvprune-9-2 cuda-nvvp-9-2\n",
            "  cuda-runtime-9-2 cuda-samples-9-2 cuda-toolkit-9-2 cuda-tools-9-2\n",
            "  cuda-visual-tools-9-2\n",
            "Use 'apt autoremove' to remove them.\n",
            "0 upgraded, 0 newly installed, 0 to remove and 62 not upgraded.\n",
            "Collecting tf-nightly-gpu-2.0-preview\n",
            "\u001b[?25l  Downloading https://files.pythonhosted.org/packages/9a/cf/e4bed012e5f6a11d8d8a44c63ad71170007662f7e9bd25efe43bd95b638a/tf_nightly_gpu_2.0_preview-1.13.0.dev20190117-cp27-cp27mu-manylinux1_x86_64.whl (321.2MB)\n",
            "\u001b[K    100% |████████████████████████████████| 321.2MB 61kB/s \n",
            "tcmalloc: large alloc 1073750016 bytes == 0x556cf93e0000 @  0x7fc92b0112a4 0x556ca4b98f18 0x556ca4c8ca85 0x556ca4bac4ca 0x556ca4bb1232 0x556ca4ba9d0a 0x556ca4bb15fe 0x556ca4ba9d0a 0x556ca4bb15fe 0x556ca4ba9d0a 0x556ca4bb15fe 0x556ca4ba9d0a 0x556ca4bb1c38 0x556ca4ba9d0a 0x556ca4bb15fe 0x556ca4ba9d0a 0x556ca4bb15fe 0x556ca4bb1232 0x556ca4bb1232 0x556ca4ba9d0a 0x556ca4bb1c38 0x556ca4bb1232 0x556ca4ba9d0a 0x556ca4bb1c38 0x556ca4ba9d0a 0x556ca4bb1c38 0x556ca4ba9d0a 0x556ca4bb15fe 0x556ca4ba9d0a 0x556ca4ba9629 0x556ca4bda61f\n",
            "\u001b[?25hRequirement already satisfied: grpcio>=1.8.6 in /usr/local/lib/python2.7/dist-packages (from tf-nightly-gpu-2.0-preview) (1.15.0)\n",
            "Collecting tb-nightly<1.14.0a0,>=1.13.0a0 (from tf-nightly-gpu-2.0-preview)\n",
            "\u001b[?25l  Downloading https://files.pythonhosted.org/packages/00/72/ca59daca70ef802ba4455a016ec2d1e7ff01d09fdd89280dcb4c55a9cba9/tb_nightly-1.13.0a20190120-py2-none-any.whl (3.2MB)\n",
            "\u001b[K    100% |████████████████████████████████| 3.2MB 2.6MB/s \n",
            "\u001b[?25hRequirement already satisfied: keras-applications>=1.0.6 in /usr/local/lib/python2.7/dist-packages (from tf-nightly-gpu-2.0-preview) (1.0.6)\n",
            "Requirement already satisfied: enum34>=1.1.6 in /usr/local/lib/python2.7/dist-packages (from tf-nightly-gpu-2.0-preview) (1.1.6)\n",
            "Requirement already satisfied: protobuf>=3.6.1 in /usr/local/lib/python2.7/dist-packages (from tf-nightly-gpu-2.0-preview) (3.6.1)\n",
            "Requirement already satisfied: keras-preprocessing>=1.0.5 in /usr/local/lib/python2.7/dist-packages (from tf-nightly-gpu-2.0-preview) (1.0.5)\n",
            "Requirement already satisfied: gast>=0.2.0 in /usr/local/lib/python2.7/dist-packages (from tf-nightly-gpu-2.0-preview) (0.2.2)\n",
            "Requirement already satisfied: wheel in /usr/local/lib/python2.7/dist-packages (from tf-nightly-gpu-2.0-preview) (0.32.3)\n",
            "Requirement already satisfied: absl-py>=0.1.6 in /usr/local/lib/python2.7/dist-packages (from tf-nightly-gpu-2.0-preview) (0.6.1)\n",
            "Requirement already satisfied: backports.weakref>=1.0rc1 in /usr/local/lib/python2.7/dist-packages (from tf-nightly-gpu-2.0-preview) (1.0.post1)\n",
            "Requirement already satisfied: numpy>=1.13.3 in /usr/local/lib/python2.7/dist-packages (from tf-nightly-gpu-2.0-preview) (1.14.6)\n",
            "Requirement already satisfied: six>=1.10.0 in /usr/local/lib/python2.7/dist-packages (from tf-nightly-gpu-2.0-preview) (1.11.0)\n",
            "Collecting google-pasta>=0.1.1 (from tf-nightly-gpu-2.0-preview)\n",
            "\u001b[?25l  Downloading https://files.pythonhosted.org/packages/6a/90/22f8f026c0e8d22fbf742d2d273d6d7cf754bc510a9e035bdb1188791497/google_pasta-0.1.1-py2-none-any.whl (51kB)\n",
            "\u001b[K    100% |████████████████████████████████| 61kB 25.9MB/s \n",
            "\u001b[?25hRequirement already satisfied: termcolor>=1.1.0 in /usr/local/lib/python2.7/dist-packages (from tf-nightly-gpu-2.0-preview) (1.1.0)\n",
            "Collecting tensorflow-estimator-2.0-preview (from tf-nightly-gpu-2.0-preview)\n",
            "  Using cached https://files.pythonhosted.org/packages/2b/a4/e4fc4c0854ef7e355bd7b90c6b820b78324e82384c38682f19379f111aaf/tensorflow_estimator_2.0_preview-1.13.0.dev2019012000-py2.py3-none-any.whl\n",
            "Requirement already satisfied: mock>=2.0.0 in /usr/local/lib/python2.7/dist-packages (from tf-nightly-gpu-2.0-preview) (2.0.0)\n",
            "Requirement already satisfied: astor>=0.6.0 in /usr/local/lib/python2.7/dist-packages (from tf-nightly-gpu-2.0-preview) (0.7.1)\n",
            "Requirement already satisfied: futures>=2.2.0 in /usr/local/lib/python2.7/dist-packages (from grpcio>=1.8.6->tf-nightly-gpu-2.0-preview) (3.2.0)\n",
            "Requirement already satisfied: werkzeug>=0.11.15 in /usr/local/lib/python2.7/dist-packages (from tb-nightly<1.14.0a0,>=1.13.0a0->tf-nightly-gpu-2.0-preview) (0.14.1)\n",
            "Requirement already satisfied: markdown>=2.6.8 in /usr/local/lib/python2.7/dist-packages (from tb-nightly<1.14.0a0,>=1.13.0a0->tf-nightly-gpu-2.0-preview) (3.0.1)\n",
            "Requirement already satisfied: h5py in /usr/local/lib/python2.7/dist-packages (from keras-applications>=1.0.6->tf-nightly-gpu-2.0-preview) (2.8.0)\n",
            "Requirement already satisfied: setuptools in /usr/local/lib/python2.7/dist-packages (from protobuf>=3.6.1->tf-nightly-gpu-2.0-preview) (40.6.3)\n",
            "Requirement already satisfied: funcsigs>=1; python_version < \"3.3\" in /usr/local/lib/python2.7/dist-packages (from mock>=2.0.0->tf-nightly-gpu-2.0-preview) (1.0.2)\n",
            "Requirement already satisfied: pbr>=0.11 in /usr/local/lib/python2.7/dist-packages (from mock>=2.0.0->tf-nightly-gpu-2.0-preview) (5.1.1)\n",
            "Installing collected packages: tb-nightly, google-pasta, tensorflow-estimator-2.0-preview, tf-nightly-gpu-2.0-preview\n",
            "Successfully installed google-pasta-0.1.1 tb-nightly-1.13.0a20190120 tensorflow-estimator-2.0-preview-1.13.0.dev2019012000 tf-nightly-gpu-2.0-preview-1.13.0.dev20190117\n"
          ],
          "name": "stdout"
        }
      ]
    },
    {
      "metadata": {
        "id": "riVZCVK65QTH",
        "colab_type": "code",
        "outputId": "cbf603e5-487d-4e8d-eb17-ecae288f0144",
        "colab": {
          "base_uri": "https://localhost:8080/",
          "height": 207
        }
      },
      "cell_type": "code",
      "source": [
        "! git clone https://github.com/aamini/introtodeeplearning_labs.git\n",
        "% cd introtodeeplearning_labs\n",
        "! git checkout 2019\n",
        "% cd .."
      ],
      "execution_count": 1,
      "outputs": [
        {
          "output_type": "stream",
          "text": [
            "Cloning into 'introtodeeplearning_labs'...\n",
            "remote: Enumerating objects: 58, done.\u001b[K\n",
            "remote: Counting objects: 100% (58/58), done.\u001b[K\n",
            "remote: Compressing objects: 100% (50/50), done.\u001b[K\n",
            "remote: Total 307 (delta 35), reused 13 (delta 7), pack-reused 249\u001b[K\n",
            "Receiving objects: 100% (307/307), 49.47 MiB | 32.49 MiB/s, done.\n",
            "Resolving deltas: 100% (115/115), done.\n",
            "/content/introtodeeplearning_labs\n",
            "Branch '2019' set up to track remote branch '2019' from 'origin'.\n",
            "Switched to a new branch '2019'\n",
            "/content\n"
          ],
          "name": "stdout"
        }
      ]
    },
    {
      "metadata": {
        "id": "lt-3uKCa5wU3",
        "colab_type": "code",
        "colab": {}
      },
      "cell_type": "code",
      "source": [
        "from introtodeeplearning_labs.lab1.util import util as util"
      ],
      "execution_count": 0,
      "outputs": []
    },
    {
      "metadata": {
        "id": "FwnMeYBa4wmA",
        "colab_type": "code",
        "colab": {
          "base_uri": "https://localhost:8080/",
          "height": 235
        },
        "outputId": "60820810-398d-4024-d60a-b87fb1dc9b56"
      },
      "cell_type": "code",
      "source": [
        "import tensorflow as tf \n",
        "tf.enable_eager_execution()\n",
        "\n",
        "import numpy as np\n",
        "import os\n",
        "import time\n",
        "\n",
        "is_correct_tf_version = '1.13.' in tf.__version__\n",
        "assert is_correct_tf_version, \"Wrong tensorflow version ({}) installed\".format(tf.__version__)\n",
        "\n",
        "is_eager_enabled = tf.executing_eagerly()\n",
        "assert is_eager_enabled,      \"Tensorflow eager mode is not enabled\""
      ],
      "execution_count": 3,
      "outputs": [
        {
          "output_type": "error",
          "ename": "AssertionError",
          "evalue": "ignored",
          "traceback": [
            "\u001b[0;31m\u001b[0m",
            "\u001b[0;31mAssertionError\u001b[0mTraceback (most recent call last)",
            "\u001b[0;32m<ipython-input-3-e5b033813ff6>\u001b[0m in \u001b[0;36m<module>\u001b[0;34m()\u001b[0m\n\u001b[1;32m      7\u001b[0m \u001b[0;34m\u001b[0m\u001b[0m\n\u001b[1;32m      8\u001b[0m \u001b[0mis_correct_tf_version\u001b[0m \u001b[0;34m=\u001b[0m \u001b[0;34m'1.13.'\u001b[0m \u001b[0;32min\u001b[0m \u001b[0mtf\u001b[0m\u001b[0;34m.\u001b[0m\u001b[0m__version__\u001b[0m\u001b[0;34m\u001b[0m\u001b[0m\n\u001b[0;32m----> 9\u001b[0;31m \u001b[0;32massert\u001b[0m \u001b[0mis_correct_tf_version\u001b[0m\u001b[0;34m,\u001b[0m \u001b[0;34m\"Wrong tensorflow version ({}) installed\"\u001b[0m\u001b[0;34m.\u001b[0m\u001b[0mformat\u001b[0m\u001b[0;34m(\u001b[0m\u001b[0mtf\u001b[0m\u001b[0;34m.\u001b[0m\u001b[0m__version__\u001b[0m\u001b[0;34m)\u001b[0m\u001b[0;34m\u001b[0m\u001b[0m\n\u001b[0m\u001b[1;32m     10\u001b[0m \u001b[0;34m\u001b[0m\u001b[0m\n\u001b[1;32m     11\u001b[0m \u001b[0mis_eager_enabled\u001b[0m \u001b[0;34m=\u001b[0m \u001b[0mtf\u001b[0m\u001b[0;34m.\u001b[0m\u001b[0mexecuting_eagerly\u001b[0m\u001b[0;34m(\u001b[0m\u001b[0;34m)\u001b[0m\u001b[0;34m\u001b[0m\u001b[0m\n",
            "\u001b[0;31mAssertionError\u001b[0m: Wrong tensorflow version (1.12.0) installed"
          ]
        }
      ]
    },
    {
      "metadata": {
        "id": "_ajvp0No4qDm",
        "colab_type": "text"
      },
      "cell_type": "markdown",
      "source": [
        "\n",
        "## 2.2 Dataset\n",
        " We have already scraped thousands of Irish folk songs in ABC notation to create a dataset for you. Let's start by downloading it and inspecting its contents. "
      ]
    },
    {
      "metadata": {
        "id": "P7dFnP5q3Jve",
        "colab_type": "code",
        "colab": {
          "base_uri": "https://localhost:8080/",
          "height": 69
        },
        "outputId": "5a2e9364-3ea6-406f-e63e-29a24eb185a8"
      },
      "cell_type": "code",
      "source": [
        "path_to_file = tf.keras.utils.get_file('irish.abc', 'https://raw.githubusercontent.com/aamini/introtodeeplearning_labs/2019/lab1/data/irish.abc')"
      ],
      "execution_count": 4,
      "outputs": [
        {
          "output_type": "stream",
          "text": [
            "Downloading data from https://raw.githubusercontent.com/aamini/introtodeeplearning_labs/2019/lab1/data/irish.abc\n",
            "204800/197618 [===============================] - 0s 0us/step\n",
            "212992/197618 [================================] - 0s 0us/step\n"
          ],
          "name": "stdout"
        }
      ]
    },
    {
      "metadata": {
        "colab_type": "text",
        "id": "UHjdCjDuSvX_"
      },
      "cell_type": "markdown",
      "source": [
        "### Read the data\n",
        "\n",
        "First, look in the text."
      ]
    },
    {
      "metadata": {
        "colab_type": "code",
        "id": "aavnuByVymwK",
        "outputId": "bf8ed592-6cb0-4923-88e7-4e4b8f2336c2",
        "colab": {
          "base_uri": "https://localhost:8080/",
          "height": 35
        }
      },
      "cell_type": "code",
      "source": [
        "text = open(path_to_file).read()\n",
        "# length of text is the number of characters in it\n",
        "print ('Length of text: {} characters'.format(len(text)))"
      ],
      "execution_count": 5,
      "outputs": [
        {
          "output_type": "stream",
          "text": [
            "Length of text: 197618 characters\n"
          ],
          "name": "stdout"
        }
      ]
    },
    {
      "metadata": {
        "colab_type": "code",
        "id": "Duhg9NrUymwO",
        "outputId": "3110827b-c329-48d9-aba7-554529edc536",
        "colab": {
          "base_uri": "https://localhost:8080/",
          "height": 190
        }
      },
      "cell_type": "code",
      "source": [
        "# Take a look at the first 250 characters in text\n",
        "print(text[:250])"
      ],
      "execution_count": 6,
      "outputs": [
        {
          "output_type": "stream",
          "text": [
            "X:1\n",
            "T:Alexander's\n",
            "Z: id:dc-hornpipe-1\n",
            "M:C|\n",
            "L:1/8\n",
            "K:D Major\n",
            "(3ABc|dAFA DFAd|fdcd FAdf|gfge fefd|(3efe (3dcB A2 (3ABc|!\n",
            "dAFA DFAd|fdcd FAdf|gfge fefd|(3efe dc d2:|!\n",
            "AG|FAdA FAdA|GBdB GBdB|Acec Acec|dfaf gecA|!\n",
            "FAdA FAdA|GBdB GBdB|Aceg fefd|(3efe dc d2:\n"
          ],
          "name": "stdout"
        }
      ]
    },
    {
      "metadata": {
        "colab_type": "code",
        "id": "IlCgQBRVymwR",
        "outputId": "f1f43089-0f06-40c0-82b7-07d23bacc651",
        "colab": {
          "base_uri": "https://localhost:8080/",
          "height": 35
        }
      },
      "cell_type": "code",
      "source": [
        "# The unique characters in the file\n",
        "vocab = sorted(set(text))\n",
        "print ('{} unique characters'.format(len(vocab)))"
      ],
      "execution_count": 7,
      "outputs": [
        {
          "output_type": "stream",
          "text": [
            "83 unique characters\n"
          ],
          "name": "stdout"
        }
      ]
    },
    {
      "metadata": {
        "colab_type": "text",
        "id": "rNnrKn_lL-IJ"
      },
      "cell_type": "markdown",
      "source": [
        "## Process the text"
      ]
    },
    {
      "metadata": {
        "colab_type": "text",
        "id": "LFjSVAlWzf-N"
      },
      "cell_type": "markdown",
      "source": [
        "### Vectorize the text\n",
        "\n",
        "Before training, we need to map strings to a numerical representation. Create two lookup tables: one mapping characters to numbers, and another for numbers to characters."
      ]
    },
    {
      "metadata": {
        "colab_type": "code",
        "id": "IalZLbvOzf-F",
        "colab": {}
      },
      "cell_type": "code",
      "source": [
        "# Creating a mapping from unique characters to indices\n",
        "char2idx = {u:i for i, u in enumerate(vocab)}\n",
        "idx2char = np.array(vocab)\n",
        "\n",
        "text_as_int = np.array([char2idx[c] for c in text])"
      ],
      "execution_count": 0,
      "outputs": []
    },
    {
      "metadata": {
        "colab_type": "text",
        "id": "tZfqhkYCymwX"
      },
      "cell_type": "markdown",
      "source": [
        "Now we have an integer representation for each character. Notice that we mapped the character as indexes from 0 to `len(unique)`."
      ]
    },
    {
      "metadata": {
        "colab_type": "code",
        "id": "FYyNlCNXymwY",
        "outputId": "3ff9538e-d964-4046-9695-a8f76ea83dd8",
        "colab": {
          "base_uri": "https://localhost:8080/",
          "height": 415
        }
      },
      "cell_type": "code",
      "source": [
        "print('{')\n",
        "for char,_ in zip(char2idx, range(20)):\n",
        "    print('  {:4s}: {:3d},'.format(repr(char), char2idx[char]))\n",
        "print('  ...\\n}')"
      ],
      "execution_count": 9,
      "outputs": [
        {
          "output_type": "stream",
          "text": [
            "{\n",
            "  '\\n':   0,\n",
            "  '!' :   2,\n",
            "  ' ' :   1,\n",
            "  '#' :   4,\n",
            "  '\"' :   3,\n",
            "  \"'\" :   5,\n",
            "  ')' :   7,\n",
            "  '(' :   6,\n",
            "  '-' :   9,\n",
            "  ',' :   8,\n",
            "  '/' :  11,\n",
            "  '.' :  10,\n",
            "  '1' :  13,\n",
            "  '0' :  12,\n",
            "  '3' :  15,\n",
            "  '2' :  14,\n",
            "  '5' :  17,\n",
            "  '4' :  16,\n",
            "  '7' :  19,\n",
            "  '6' :  18,\n",
            "  ...\n",
            "}\n"
          ],
          "name": "stdout"
        }
      ]
    },
    {
      "metadata": {
        "colab_type": "code",
        "id": "l1VKcQHcymwb",
        "outputId": "d146cef2-6b9a-4900-960b-aee3d9b6e4c4",
        "colab": {
          "base_uri": "https://localhost:8080/",
          "height": 35
        }
      },
      "cell_type": "code",
      "source": [
        "# Show how the first 13 characters from the text are mapped to integers\n",
        "print ('{} ---- characters mapped to int ---- > {}'.format(repr(text[:13]), text_as_int[:13]))"
      ],
      "execution_count": 10,
      "outputs": [
        {
          "output_type": "stream",
          "text": [
            "'X:1\\nT:Alexand' ---- characters mapped to int ---- > [49 22 13  0 45 22 26 67 60 79 56 69 59]\n"
          ],
          "name": "stdout"
        }
      ]
    },
    {
      "metadata": {
        "colab_type": "text",
        "id": "bbmsf23Bymwe"
      },
      "cell_type": "markdown",
      "source": [
        "### The prediction task"
      ]
    },
    {
      "metadata": {
        "colab_type": "text",
        "id": "wssHQ1oGymwe"
      },
      "cell_type": "markdown",
      "source": [
        "Given a character, or a sequence of characters, what is the most probable next character? This is the task we're training the model to perform. The input to the model will be a sequence of characters, and we train the model to predict the output—the following character at each time step.\n",
        "\n",
        "Since RNNs maintain an internal state that depends on the previously seen elements, given all the characters computed until this moment, what is the next character?\n"
      ]
    },
    {
      "metadata": {
        "colab_type": "text",
        "id": "hgsVvVxnymwf"
      },
      "cell_type": "markdown",
      "source": [
        "### Create training examples and targets\n",
        "\n",
        "Next divide the text into example sequences. Each input sequence will contain `seq_length` characters from the text. \n",
        "\n",
        "For each input sequence, the corresponding targets contain the same length of text, except shifted one character to the right. \n",
        "\n",
        "So break the text into chunks of `seq_length+1`. For example, say `seq_length` is 4 and our text is \"Hello\". The input sequence would be \"Hell\", and the target sequence \"ello\".\n",
        "\n",
        "To do this first use the `tf.data.Dataset.from_tensor_slices` function to convert the text vector into a stream of character indices."
      ]
    },
    {
      "metadata": {
        "colab_type": "code",
        "id": "0UHJDA39zf-O",
        "outputId": "8913c191-1aa5-4ff7-a7ef-30b986923870",
        "colab": {
          "base_uri": "https://localhost:8080/",
          "height": 121
        }
      },
      "cell_type": "code",
      "source": [
        "# The maximum length sentence we want for a single input in characters\n",
        "seq_length = 100\n",
        "examples_per_epoch = len(text)//seq_length\n",
        "\n",
        "# Create training examples / targets\n",
        "char_dataset = tf.data.Dataset.from_tensor_slices(text_as_int)\n",
        "\n",
        "for i in char_dataset.take(5):\n",
        "  print(idx2char[i.numpy()])"
      ],
      "execution_count": 11,
      "outputs": [
        {
          "output_type": "stream",
          "text": [
            "X\n",
            ":\n",
            "1\n",
            "\n",
            "\n",
            "T\n"
          ],
          "name": "stdout"
        }
      ]
    },
    {
      "metadata": {
        "colab_type": "text",
        "id": "-ZSYAcQV8OGP"
      },
      "cell_type": "markdown",
      "source": [
        "The `batch` method lets us easily convert these individual characters to sequences of the desired size. "
      ]
    },
    {
      "metadata": {
        "colab_type": "code",
        "id": "l4hkDU3i7ozi",
        "outputId": "c336ef9c-9fc8-4e4c-c36a-32bcd25013a8",
        "colab": {
          "base_uri": "https://localhost:8080/",
          "height": 104
        }
      },
      "cell_type": "code",
      "source": [
        "sequences = char_dataset.batch(seq_length+1, drop_remainder=True)\n",
        "\n",
        "for item in sequences.take(5):\n",
        "  print(repr(''.join(idx2char[item.numpy()])))"
      ],
      "execution_count": 12,
      "outputs": [
        {
          "output_type": "stream",
          "text": [
            "\"X:1\\nT:Alexander's\\nZ: id:dc-hornpipe-1\\nM:C|\\nL:1/8\\nK:D Major\\n(3ABc|dAFA DFAd|fdcd FAdf|gfge fefd|(3efe \"\n",
            "'(3dcB A2 (3ABc|!\\ndAFA DFAd|fdcd FAdf|gfge fefd|(3efe dc d2:|!\\nAG|FAdA FAdA|GBdB GBdB|Acec Acec|dfaf g'\n",
            "'ecA|!\\nFAdA FAdA|GBdB GBdB|Aceg fefd|(3efe dc d2:|!\\n\\nX:2\\nT:An Buachaill Dreoite\\nZ: id:dc-hornpipe-2\\nM:'\n",
            "'C|\\nL:1/8\\nK:G Major\\nGF|DGGB d2GB|d2GF Gc (3AGF|DGGB d2GB|dBcA F2GF|!\\nDGGB d2GF|DGGF G2Ge|fgaf gbag|fdc'\n",
            "'A G2:|!\\nGA|B2BG c2cA|d2GF G2GA|B2BG c2cA|d2DE F2GA|!\\nB2BG c2cA|d^cde f2 (3def|g2gf gbag|fdcA G2:|!\\n\\nX'\n"
          ],
          "name": "stdout"
        }
      ]
    },
    {
      "metadata": {
        "colab_type": "text",
        "id": "UbLcIPBj_mWZ"
      },
      "cell_type": "markdown",
      "source": [
        "For each sequence, duplicate and shift it to form the input and target text by using the `map` method to apply a simple function to each batch:"
      ]
    },
    {
      "metadata": {
        "colab_type": "code",
        "id": "9NGu-FkO_kYU",
        "colab": {}
      },
      "cell_type": "code",
      "source": [
        "def split_input_target(chunk):\n",
        "    input_text = chunk[:-1]\n",
        "    target_text = chunk[1:]\n",
        "    return input_text, target_text\n",
        "\n",
        "dataset = sequences.map(split_input_target)"
      ],
      "execution_count": 0,
      "outputs": []
    },
    {
      "metadata": {
        "colab_type": "text",
        "id": "hiCopyGZymwi"
      },
      "cell_type": "markdown",
      "source": [
        "Print the first examples input and target values:"
      ]
    },
    {
      "metadata": {
        "colab_type": "code",
        "id": "GNbw-iR0ymwj",
        "outputId": "db36e3f1-aa8f-410c-832d-7a051cb71946",
        "colab": {
          "base_uri": "https://localhost:8080/",
          "height": 52
        }
      },
      "cell_type": "code",
      "source": [
        "for input_example, target_example in  dataset.take(1):\n",
        "  print ('Input data: ', repr(''.join(idx2char[input_example.numpy()])))\n",
        "  print ('Target data:', repr(''.join(idx2char[target_example.numpy()])))"
      ],
      "execution_count": 14,
      "outputs": [
        {
          "output_type": "stream",
          "text": [
            "('Input data: ', '\"X:1\\\\nT:Alexander\\'s\\\\nZ: id:dc-hornpipe-1\\\\nM:C|\\\\nL:1/8\\\\nK:D Major\\\\n(3ABc|dAFA DFAd|fdcd FAdf|gfge fefd|(3efe\"')\n",
            "('Target data:', '\":1\\\\nT:Alexander\\'s\\\\nZ: id:dc-hornpipe-1\\\\nM:C|\\\\nL:1/8\\\\nK:D Major\\\\n(3ABc|dAFA DFAd|fdcd FAdf|gfge fefd|(3efe \"')\n"
          ],
          "name": "stdout"
        }
      ]
    },
    {
      "metadata": {
        "colab_type": "text",
        "id": "_33OHL3b84i0"
      },
      "cell_type": "markdown",
      "source": [
        "Each index of these vectors are processed as one time step. For the input at time step 0, the model receives the index for \"F\" and trys to predict the index for \"i\" as the next character. At the next timestep, it does the same thing but the `RNN` considers the previous step context in addition to the current input character."
      ]
    },
    {
      "metadata": {
        "colab_type": "code",
        "id": "0eBu9WZG84i0",
        "outputId": "3abe60fb-edd3-4c88-d9d8-c9821054e7a5",
        "colab": {
          "base_uri": "https://localhost:8080/",
          "height": 276
        }
      },
      "cell_type": "code",
      "source": [
        "for i, (input_idx, target_idx) in enumerate(zip(input_example[:5], target_example[:5])):\n",
        "    print(\"Step {:4d}\".format(i))\n",
        "    print(\"  input: {} ({:s})\".format(input_idx, repr(idx2char[input_idx])))\n",
        "    print(\"  expected output: {} ({:s})\".format(target_idx, repr(idx2char[target_idx])))"
      ],
      "execution_count": 15,
      "outputs": [
        {
          "output_type": "stream",
          "text": [
            "Step    0\n",
            "  input: 49 ('X')\n",
            "  expected output: 22 (':')\n",
            "Step    1\n",
            "  input: 22 (':')\n",
            "  expected output: 13 ('1')\n",
            "Step    2\n",
            "  input: 13 ('1')\n",
            "  expected output: 0 ('\\n')\n",
            "Step    3\n",
            "  input: 0 ('\\n')\n",
            "  expected output: 45 ('T')\n",
            "Step    4\n",
            "  input: 45 ('T')\n",
            "  expected output: 22 (':')\n"
          ],
          "name": "stdout"
        }
      ]
    },
    {
      "metadata": {
        "colab_type": "text",
        "id": "MJdfPmdqzf-R"
      },
      "cell_type": "markdown",
      "source": [
        "### Create training batches\n",
        "\n",
        "We used `tf.data` to split the text into manageable sequences. But before feeding this data into the model, we need to shuffle the data and pack it into batches."
      ]
    },
    {
      "metadata": {
        "colab_type": "code",
        "id": "p2pGotuNzf-S",
        "outputId": "09533948-63e3-455f-db4e-24649dd8d9b6",
        "colab": {
          "base_uri": "https://localhost:8080/",
          "height": 35
        }
      },
      "cell_type": "code",
      "source": [
        "# Batch size \n",
        "BATCH_SIZE = 64\n",
        "steps_per_epoch = examples_per_epoch//BATCH_SIZE\n",
        "\n",
        "# Buffer size to shuffle the dataset\n",
        "# (TF data is designed to work with possibly infinite sequences, \n",
        "# so it doesn't attempt to shuffle the entire sequence in memory. Instead, \n",
        "# it maintains a buffer in which it shuffles elements).\n",
        "BUFFER_SIZE = 10000\n",
        "\n",
        "dataset = dataset.shuffle(BUFFER_SIZE).batch(BATCH_SIZE, drop_remainder=True)\n",
        "\n",
        "dataset"
      ],
      "execution_count": 16,
      "outputs": [
        {
          "output_type": "execute_result",
          "data": {
            "text/plain": [
              "<BatchDataset shapes: ((64, 100), (64, 100)), types: (tf.int64, tf.int64)>"
            ]
          },
          "metadata": {
            "tags": []
          },
          "execution_count": 16
        }
      ]
    },
    {
      "metadata": {
        "colab_type": "text",
        "id": "r6oUuElIMgVx"
      },
      "cell_type": "markdown",
      "source": [
        "## Build The Model"
      ]
    },
    {
      "metadata": {
        "colab_type": "text",
        "id": "m8gPwEjRzf-Z"
      },
      "cell_type": "markdown",
      "source": [
        "Use `tf.keras.Sequential` to define the model. For this simple example three layers are used to define our model:\n",
        "\n",
        "* `tf.keras.layers.Embedding`: The input layer. A trainable lookup table that will map the numbers of each character to a vector with `embedding_dim` dimensions;\n",
        "* `tf.keras.layers.GRU`: A type of RNN with size `units=rnn_units` (You can also use a LSTM layer here.)\n",
        "* `tf.keras.layers.Dense`: The output layer, with `vocab_size` outputs."
      ]
    },
    {
      "metadata": {
        "colab_type": "code",
        "id": "zHT8cLh7EAsg",
        "colab": {}
      },
      "cell_type": "code",
      "source": [
        "# Length of the vocabulary in chars\n",
        "vocab_size = len(vocab)\n",
        "\n",
        "# The embedding dimension \n",
        "embedding_dim = 256\n",
        "\n",
        "# Number of RNN units\n",
        "rnn_units = 1024"
      ],
      "execution_count": 0,
      "outputs": []
    },
    {
      "metadata": {
        "colab_type": "text",
        "id": "NNVB-jmMEOzP"
      },
      "cell_type": "markdown",
      "source": [
        "Next define a function to build the model.\n",
        "\n",
        "Use `CuDNNGRU` if running on GPU.  "
      ]
    },
    {
      "metadata": {
        "id": "OQH6dTWilLfU",
        "colab_type": "code",
        "outputId": "8405e93c-2749-409c-d479-cf522d30463d",
        "colab": {
          "base_uri": "https://localhost:8080/",
          "height": 35
        }
      },
      "cell_type": "code",
      "source": [
        "tf.test.is_gpu_available()"
      ],
      "execution_count": 18,
      "outputs": [
        {
          "output_type": "execute_result",
          "data": {
            "text/plain": [
              "True"
            ]
          },
          "metadata": {
            "tags": []
          },
          "execution_count": 18
        }
      ]
    },
    {
      "metadata": {
        "colab_type": "code",
        "id": "DHsTugpJlLD6",
        "colab": {}
      },
      "cell_type": "code",
      "source": [
        "if tf.test.is_gpu_available():\n",
        "  rnn = tf.keras.layers.CuDNNGRU\n",
        "else:\n",
        "  import functools\n",
        "  rnn = functools.partial(\n",
        "    tf.keras.layers.GRU, recurrent_activation='sigmoid')"
      ],
      "execution_count": 0,
      "outputs": []
    },
    {
      "metadata": {
        "colab_type": "code",
        "id": "MtCrdfzEI2N0",
        "colab": {}
      },
      "cell_type": "code",
      "source": [
        "def build_model(vocab_size, embedding_dim, rnn_units, batch_size):\n",
        "  model = tf.keras.Sequential([\n",
        "    tf.keras.layers.Embedding(vocab_size, embedding_dim, \n",
        "                              batch_input_shape=[batch_size, None]),\n",
        "    rnn(rnn_units,\n",
        "        return_sequences=True, \n",
        "        recurrent_initializer='glorot_uniform',\n",
        "        stateful=True),\n",
        "    tf.keras.layers.Dense(vocab_size)\n",
        "  ])\n",
        "  return model"
      ],
      "execution_count": 0,
      "outputs": []
    },
    {
      "metadata": {
        "colab_type": "code",
        "id": "wwsrpOik5zhv",
        "colab": {}
      },
      "cell_type": "code",
      "source": [
        "model = build_model(\n",
        "  vocab_size = len(vocab), \n",
        "  embedding_dim=embedding_dim, \n",
        "  rnn_units=rnn_units, \n",
        "  batch_size=BATCH_SIZE)\n"
      ],
      "execution_count": 0,
      "outputs": []
    },
    {
      "metadata": {
        "colab_type": "text",
        "id": "-ubPo0_9Prjb"
      },
      "cell_type": "markdown",
      "source": [
        "## Try the model\n",
        "\n",
        "Now run the model to see that it behaves as expected.\n",
        "\n",
        "First check the shape of the output:"
      ]
    },
    {
      "metadata": {
        "colab_type": "code",
        "id": "C-_70kKAPrPU",
        "outputId": "676bff59-6293-4cae-e9c4-5f96fa164a5f",
        "colab": {
          "base_uri": "https://localhost:8080/",
          "height": 35
        }
      },
      "cell_type": "code",
      "source": [
        "for input_example_batch, target_example_batch in dataset.take(1): \n",
        "  example_batch_predictions = model(input_example_batch)\n",
        "  print(example_batch_predictions.shape, \"# (batch_size, sequence_length, vocab_size)\")"
      ],
      "execution_count": 22,
      "outputs": [
        {
          "output_type": "stream",
          "text": [
            "(TensorShape([Dimension(64), Dimension(100), Dimension(83)]), '# (batch_size, sequence_length, vocab_size)')\n"
          ],
          "name": "stdout"
        }
      ]
    },
    {
      "metadata": {
        "colab_type": "text",
        "id": "Q6NzLBi4VM4o"
      },
      "cell_type": "markdown",
      "source": [
        "In the above example the sequence length of the input is `100` but the model can be run on inputs of any length: "
      ]
    },
    {
      "metadata": {
        "colab_type": "code",
        "id": "vPGmAAXmVLGC",
        "outputId": "c81e64c6-166b-441b-e587-e59e576dcd2a",
        "colab": {
          "base_uri": "https://localhost:8080/",
          "height": 242
        }
      },
      "cell_type": "code",
      "source": [
        "model.summary()"
      ],
      "execution_count": 23,
      "outputs": [
        {
          "output_type": "stream",
          "text": [
            "_________________________________________________________________\n",
            "Layer (type)                 Output Shape              Param #   \n",
            "=================================================================\n",
            "embedding (Embedding)        (64, None, 256)           21248     \n",
            "_________________________________________________________________\n",
            "cu_dnngru (CuDNNGRU)         (64, None, 1024)          3938304   \n",
            "_________________________________________________________________\n",
            "dense (Dense)                (64, None, 83)            85075     \n",
            "=================================================================\n",
            "Total params: 4,044,627\n",
            "Trainable params: 4,044,627\n",
            "Non-trainable params: 0\n",
            "_________________________________________________________________\n"
          ],
          "name": "stdout"
        }
      ]
    },
    {
      "metadata": {
        "colab_type": "text",
        "id": "uwv0gEkURfx1"
      },
      "cell_type": "markdown",
      "source": [
        "To get actual predictions from the model we need to sample from the output distribution, to get actual character indices. This distribution is defined by the logits over the character vocabulary. \n",
        "\n",
        "Note: It is important to _sample_ from this distribution as taking the _argmax_ of the distribution can easily get the model stuck in a loop.\n",
        "\n",
        "Try it for the first example in the batch:"
      ]
    },
    {
      "metadata": {
        "colab_type": "code",
        "id": "4V4MfFg0RQJg",
        "colab": {}
      },
      "cell_type": "code",
      "source": [
        "sampled_indices = tf.random.multinomial(example_batch_predictions[0], num_samples=1)\n",
        "sampled_indices = tf.squeeze(sampled_indices,axis=-1).numpy()"
      ],
      "execution_count": 0,
      "outputs": []
    },
    {
      "metadata": {
        "colab_type": "text",
        "id": "QM1Vbxs_URw5"
      },
      "cell_type": "markdown",
      "source": [
        "This gives us, at each timestep, a prediction of the next character index:"
      ]
    },
    {
      "metadata": {
        "colab_type": "code",
        "id": "YqFMUQc_UFgM",
        "outputId": "47d9d029-fd8a-4950-e749-3ad7b119d8e1",
        "colab": {
          "base_uri": "https://localhost:8080/",
          "height": 121
        }
      },
      "cell_type": "code",
      "source": [
        "sampled_indices"
      ],
      "execution_count": 25,
      "outputs": [
        {
          "output_type": "execute_result",
          "data": {
            "text/plain": [
              "array([24,  5, 22, 49, 35, 69, 77, 15, 75, 44,  1, 40, 49, 23, 14, 76, 81,\n",
              "       15, 32, 11,  0, 57, 69, 65, 40, 22,  6,  2, 44, 13, 22, 24,  7, 62,\n",
              "       28, 57, 11, 67, 59, 33, 60, 21, 44, 17, 21, 30, 76,  2, 51,  0, 30,\n",
              "       75, 52, 74, 78, 31, 54, 65,  4, 55, 16, 77, 78,  3, 11, 46, 64, 10,\n",
              "       46, 49, 76, 31, 34, 57, 18, 76, 57, 31, 81, 51, 74, 15, 73, 23, 63,\n",
              "       53,  2, 65,  2, 63, 59, 22, 55, 15,  7, 18, 16, 38, 38, 31])"
            ]
          },
          "metadata": {
            "tags": []
          },
          "execution_count": 25
        }
      ]
    },
    {
      "metadata": {
        "colab_type": "text",
        "id": "LfLtsP3mUhCG"
      },
      "cell_type": "markdown",
      "source": [
        "Decode these to see the text predicted by this untrained model:"
      ]
    },
    {
      "metadata": {
        "colab_type": "code",
        "id": "xWcFwPwLSo05",
        "outputId": "8e51745e-463d-4bd0-81e8-b7f8a496e280",
        "colab": {
          "base_uri": "https://localhost:8080/",
          "height": 69
        }
      },
      "cell_type": "code",
      "source": [
        "print(\"Input: \\n\", repr(\"\".join(idx2char[input_example_batch[0]])))\n",
        "print()\n",
        "print(\"Next Char Predictions: \\n\", repr(\"\".join(idx2char[sampled_indices ])))"
      ],
      "execution_count": 26,
      "outputs": [
        {
          "output_type": "stream",
          "text": [
            "('Input: \\n', '\"3|]!\\\\n\\\\nX:100\\\\nT:Father Kelly\\'s No. 1\\\\nZ: id:dc-reel-92\\\\nM:C\\\\nL:1/8\\\\nK:G Major\\\\nGA|B2GB AGEG|DGGF G2AB|cBAB \"')\n",
            "()\n",
            "('Next Char Predictions: \\n', '\\'=\\\\\\':XJnv3tS OX<2uz3G/\\\\nbnjO:(!S1:=)gCb/ldHe9S59Eu!Z\\\\nEt[swF^j#_4vw\"/Ui.UXuFIb6ubFzZs3r<h]!j!hd:_3)64MMF\\'')\n"
          ],
          "name": "stdout"
        }
      ]
    },
    {
      "metadata": {
        "colab_type": "text",
        "id": "LJL0Q0YPY6Ee"
      },
      "cell_type": "markdown",
      "source": [
        "## Train the model"
      ]
    },
    {
      "metadata": {
        "colab_type": "text",
        "id": "YCbHQHiaa4Ic"
      },
      "cell_type": "markdown",
      "source": [
        "At this point the problem can be treated as a standard classification problem. Given the previous RNN state, and the input this time step, predict the class of the next character."
      ]
    },
    {
      "metadata": {
        "colab_type": "code",
        "id": "4HrXTACTdzY-",
        "outputId": "cac04501-6eae-4821-d635-d1116a05493a",
        "colab": {
          "base_uri": "https://localhost:8080/",
          "height": 52
        }
      },
      "cell_type": "code",
      "source": [
        "def compute_loss(labels, logits):\n",
        "  return tf.keras.backend.sparse_categorical_crossentropy(labels, logits, from_logits=True)\n",
        "\n",
        "example_batch_loss  = compute_loss(target_example_batch, example_batch_predictions)\n",
        "print(\"Prediction shape: \", example_batch_predictions.shape, \" # (batch_size, sequence_length, vocab_size)\") \n",
        "print(\"scalar_loss:      \", example_batch_loss.numpy().mean())"
      ],
      "execution_count": 28,
      "outputs": [
        {
          "output_type": "stream",
          "text": [
            "('Prediction shape: ', TensorShape([Dimension(64), Dimension(100), Dimension(83)]), ' # (batch_size, sequence_length, vocab_size)')\n",
            "('scalar_loss:      ', 4.419739)\n"
          ],
          "name": "stdout"
        }
      ]
    },
    {
      "metadata": {
        "colab_type": "code",
        "id": "qUKhnZtMVpoJ",
        "outputId": "63f2bbbe-5b34-4f7d-a5ca-d72cd9d7e776",
        "colab": {
          "base_uri": "https://localhost:8080/",
          "height": 276
        }
      },
      "cell_type": "code",
      "source": [
        "!pip install --force https://github.com/chengs/tqdm/archive/colab.zip"
      ],
      "execution_count": 29,
      "outputs": [
        {
          "output_type": "stream",
          "text": [
            "Collecting https://github.com/chengs/tqdm/archive/colab.zip\n",
            "  Downloading https://github.com/chengs/tqdm/archive/colab.zip\n",
            "\u001b[K     \\ 471kB 16.5MB/s\n",
            "Building wheels for collected packages: tqdm\n",
            "  Running setup.py bdist_wheel for tqdm ... \u001b[?25l-\b \bdone\n",
            "\u001b[?25h  Stored in directory: /tmp/pip-ephem-wheel-cache-RpoyIL/wheels/41/18/ee/d5dd158441b27965855b1bbae03fa2d8a91fe645c01b419896\n",
            "Successfully built tqdm\n",
            "\u001b[31mthinc 6.12.1 has requirement wrapt<1.11.0,>=1.10.0, but you'll have wrapt 1.11.0 which is incompatible.\u001b[0m\n",
            "\u001b[31mpymc3 3.6 has requirement joblib<0.13.0, but you'll have joblib 0.13.1 which is incompatible.\u001b[0m\n",
            "\u001b[31mfeaturetools 0.4.1 has requirement pandas>=0.23.0, but you'll have pandas 0.22.0 which is incompatible.\u001b[0m\n",
            "Installing collected packages: tqdm\n",
            "  Found existing installation: tqdm 4.28.1\n",
            "    Uninstalling tqdm-4.28.1:\n",
            "      Successfully uninstalled tqdm-4.28.1\n",
            "Successfully installed tqdm-4.28.1\n"
          ],
          "name": "stdout"
        }
      ]
    },
    {
      "metadata": {
        "id": "jLQzQF3GvXuB",
        "colab_type": "code",
        "colab": {}
      },
      "cell_type": "code",
      "source": [
        "from tqdm import tqdm_notebook as tqdm"
      ],
      "execution_count": 0,
      "outputs": []
    },
    {
      "metadata": {
        "colab_type": "code",
        "id": "d4tSNwymzf-q",
        "outputId": "5f3f4229-e0ac-477e-8e98-5ab8bbfc3cd2",
        "colab": {
          "base_uri": "https://localhost:8080/",
          "height": 394
        }
      },
      "cell_type": "code",
      "source": [
        "\n",
        "# Training step\n",
        "EPOCHS = 10\n",
        "optimizer = tf.train.AdamOptimizer()\n",
        "checkpoint_dir = './training_checkpoints'\n",
        "checkpoint_prefix = os.path.join(checkpoint_dir, \"ckpt_{epoch}\")\n",
        "\n",
        "\n",
        "for epoch in range(EPOCHS):\n",
        "    start = time.time()\n",
        "\n",
        "    # initializing the hidden state at the start of every epoch\n",
        "    # initally hidden is None\n",
        "    hidden = model.reset_states()\n",
        "\n",
        "    progress_bar = tqdm(enumerate(dataset))\n",
        "    for (batch_n, (inp, target)) in progress_bar:\n",
        "\n",
        "        with tf.GradientTape() as tape:\n",
        "            # feeding the hidden state back into the model\n",
        "            # This is the interesting step\n",
        "            predictions = model(inp)\n",
        "            loss = compute_loss(target, predictions)\n",
        "\n",
        "        grads = tape.gradient(loss, model.trainable_variables)\n",
        "        optimizer.apply_gradients(zip(grads, model.trainable_variables))\n",
        "\n",
        "        progress_bar.set_description(\"loss {0:.2f}\".format(loss.numpy().mean()))\n",
        "\n",
        "    model.save_weights(checkpoint_prefix.format(epoch=epoch))\n",
        "\n"
      ],
      "execution_count": 32,
      "outputs": [
        {
          "output_type": "display_data",
          "data": {
            "text/plain": [
              "[============================================================] 1/1"
            ],
            "text/html": [
              "<span></span><progress style='margin:2px 4px;' max='1' value='1'></progress>"
            ]
          },
          "metadata": {
            "tags": []
          }
        },
        {
          "output_type": "display_data",
          "data": {
            "text/plain": [
              "<tqdm._fake_ipywidgets.HBox object>"
            ],
            "text/html": [
              "<div style=\"display:flex;flex-direction:row;\"><span>loss 3.08</span><progress style='description_width:initial;margin:2px 4px;' max='1' value='1'></progress>30it [00:04,  7.03it/s]</div>"
            ]
          },
          "metadata": {
            "tags": []
          }
        },
        {
          "output_type": "display_data",
          "data": {
            "text/plain": [
              "[============================================================] 1/1"
            ],
            "text/html": [
              "<span></span><progress style='margin:2px 4px;' max='1' value='1'></progress>"
            ]
          },
          "metadata": {
            "tags": []
          }
        },
        {
          "output_type": "display_data",
          "data": {
            "text/plain": [
              "<tqdm._fake_ipywidgets.HBox object>"
            ],
            "text/html": [
              "<div style=\"display:flex;flex-direction:row;\"><span>loss 2.30</span><progress style='description_width:initial;margin:2px 4px;' max='1' value='1'></progress>30it [00:04,  7.08it/s]</div>"
            ]
          },
          "metadata": {
            "tags": []
          }
        },
        {
          "output_type": "display_data",
          "data": {
            "text/plain": [
              "[============================================================] 1/1"
            ],
            "text/html": [
              "<span></span><progress style='margin:2px 4px;' max='1' value='1'></progress>"
            ]
          },
          "metadata": {
            "tags": []
          }
        },
        {
          "output_type": "display_data",
          "data": {
            "text/plain": [
              "<tqdm._fake_ipywidgets.HBox object>"
            ],
            "text/html": [
              "<div style=\"display:flex;flex-direction:row;\"><span>loss 1.83</span><progress style='description_width:initial;margin:2px 4px;' max='1' value='1'></progress>30it [00:04,  6.88it/s]</div>"
            ]
          },
          "metadata": {
            "tags": []
          }
        },
        {
          "output_type": "display_data",
          "data": {
            "text/plain": [
              "[============================================================] 1/1"
            ],
            "text/html": [
              "<span></span><progress style='margin:2px 4px;' max='1' value='1'></progress>"
            ]
          },
          "metadata": {
            "tags": []
          }
        },
        {
          "output_type": "display_data",
          "data": {
            "text/plain": [
              "<tqdm._fake_ipywidgets.HBox object>"
            ],
            "text/html": [
              "<div style=\"display:flex;flex-direction:row;\"><span>loss 1.69</span><progress style='description_width:initial;margin:2px 4px;' max='1' value='1'></progress>30it [00:04,  6.96it/s]</div>"
            ]
          },
          "metadata": {
            "tags": []
          }
        },
        {
          "output_type": "display_data",
          "data": {
            "text/plain": [
              "[============================================================] 1/1"
            ],
            "text/html": [
              "<span></span><progress style='margin:2px 4px;' max='1' value='1'></progress>"
            ]
          },
          "metadata": {
            "tags": []
          }
        },
        {
          "output_type": "display_data",
          "data": {
            "text/plain": [
              "<tqdm._fake_ipywidgets.HBox object>"
            ],
            "text/html": [
              "<div style=\"display:flex;flex-direction:row;\"><span>loss 1.52</span><progress style='description_width:initial;margin:2px 4px;' max='1' value='1'></progress>30it [00:04,  7.00it/s]</div>"
            ]
          },
          "metadata": {
            "tags": []
          }
        },
        {
          "output_type": "display_data",
          "data": {
            "text/plain": [
              "[============================================================] 1/1"
            ],
            "text/html": [
              "<span></span><progress style='margin:2px 4px;' max='1' value='1'></progress>"
            ]
          },
          "metadata": {
            "tags": []
          }
        },
        {
          "output_type": "display_data",
          "data": {
            "text/plain": [
              "<tqdm._fake_ipywidgets.HBox object>"
            ],
            "text/html": [
              "<div style=\"display:flex;flex-direction:row;\"><span>loss 1.44</span><progress style='description_width:initial;margin:2px 4px;' max='1' value='1'></progress>30it [00:04,  7.03it/s]</div>"
            ]
          },
          "metadata": {
            "tags": []
          }
        },
        {
          "output_type": "display_data",
          "data": {
            "text/plain": [
              "[============================================================] 1/1"
            ],
            "text/html": [
              "<span></span><progress style='margin:2px 4px;' max='1' value='1'></progress>"
            ]
          },
          "metadata": {
            "tags": []
          }
        },
        {
          "output_type": "display_data",
          "data": {
            "text/plain": [
              "<tqdm._fake_ipywidgets.HBox object>"
            ],
            "text/html": [
              "<div style=\"display:flex;flex-direction:row;\"><span>loss 1.35</span><progress style='description_width:initial;margin:2px 4px;' max='1' value='1'></progress>30it [00:04,  6.85it/s]</div>"
            ]
          },
          "metadata": {
            "tags": []
          }
        },
        {
          "output_type": "display_data",
          "data": {
            "text/plain": [
              "[============================================================] 1/1"
            ],
            "text/html": [
              "<span></span><progress style='margin:2px 4px;' max='1' value='1'></progress>"
            ]
          },
          "metadata": {
            "tags": []
          }
        },
        {
          "output_type": "display_data",
          "data": {
            "text/plain": [
              "<tqdm._fake_ipywidgets.HBox object>"
            ],
            "text/html": [
              "<div style=\"display:flex;flex-direction:row;\"><span>loss 1.35</span><progress style='description_width:initial;margin:2px 4px;' max='1' value='1'></progress>30it [00:04,  6.99it/s]</div>"
            ]
          },
          "metadata": {
            "tags": []
          }
        },
        {
          "output_type": "display_data",
          "data": {
            "text/plain": [
              "[============================================================] 1/1"
            ],
            "text/html": [
              "<span></span><progress style='margin:2px 4px;' max='1' value='1'></progress>"
            ]
          },
          "metadata": {
            "tags": []
          }
        },
        {
          "output_type": "display_data",
          "data": {
            "text/plain": [
              "<tqdm._fake_ipywidgets.HBox object>"
            ],
            "text/html": [
              "<div style=\"display:flex;flex-direction:row;\"><span>loss 1.33</span><progress style='description_width:initial;margin:2px 4px;' max='1' value='1'></progress>30it [00:04,  6.96it/s]</div>"
            ]
          },
          "metadata": {
            "tags": []
          }
        },
        {
          "output_type": "display_data",
          "data": {
            "text/plain": [
              "[============================================================] 1/1"
            ],
            "text/html": [
              "<span></span><progress style='margin:2px 4px;' max='1' value='1'></progress>"
            ]
          },
          "metadata": {
            "tags": []
          }
        },
        {
          "output_type": "display_data",
          "data": {
            "text/plain": [
              "<tqdm._fake_ipywidgets.HBox object>"
            ],
            "text/html": [
              "<div style=\"display:flex;flex-direction:row;\"><span>loss 1.28</span><progress style='description_width:initial;margin:2px 4px;' max='1' value='1'></progress>30it [00:04,  6.98it/s]</div>"
            ]
          },
          "metadata": {
            "tags": []
          }
        }
      ]
    },
    {
      "metadata": {
        "colab_type": "text",
        "id": "kKkD5M6eoSiN"
      },
      "cell_type": "markdown",
      "source": [
        "## Generate text"
      ]
    },
    {
      "metadata": {
        "colab_type": "text",
        "id": "JIPcXllKjkdr"
      },
      "cell_type": "markdown",
      "source": [
        "### Restore the latest checkpoint"
      ]
    },
    {
      "metadata": {
        "colab_type": "text",
        "id": "LyeYRiuVjodY"
      },
      "cell_type": "markdown",
      "source": [
        "To keep this prediction step simple, use a batch size of 1.\n",
        "\n",
        "Because of the way the RNN state is passed from timestep to timestep, the model only accepts a fixed batch size once built. \n",
        "\n",
        "To run the model with a different `batch_size`, we need to rebuild the model and restore the weights from the checkpoint.\n"
      ]
    },
    {
      "metadata": {
        "colab_type": "code",
        "id": "zk2WJ2-XjkGz",
        "outputId": "f93f625b-4d68-4b59-864f-87fae0d05fbd",
        "colab": {
          "base_uri": "https://localhost:8080/",
          "height": 35
        }
      },
      "cell_type": "code",
      "source": [
        "tf.train.latest_checkpoint(checkpoint_dir)"
      ],
      "execution_count": 33,
      "outputs": [
        {
          "output_type": "execute_result",
          "data": {
            "text/plain": [
              "u'./training_checkpoints/ckpt_9'"
            ]
          },
          "metadata": {
            "tags": []
          },
          "execution_count": 33
        }
      ]
    },
    {
      "metadata": {
        "colab_type": "code",
        "id": "LycQ-ot_jjyu",
        "colab": {}
      },
      "cell_type": "code",
      "source": [
        "model = build_model(vocab_size, embedding_dim, rnn_units, batch_size=1)\n",
        "\n",
        "model.load_weights(tf.train.latest_checkpoint(checkpoint_dir))\n",
        "\n",
        "model.build(tf.TensorShape([1, None]))"
      ],
      "execution_count": 0,
      "outputs": []
    },
    {
      "metadata": {
        "colab_type": "code",
        "id": "71xa6jnYVrAN",
        "outputId": "ae9cb055-6a7a-48f7-a361-212ecf62d3fa",
        "colab": {
          "base_uri": "https://localhost:8080/",
          "height": 242
        }
      },
      "cell_type": "code",
      "source": [
        "model.summary()"
      ],
      "execution_count": 35,
      "outputs": [
        {
          "output_type": "stream",
          "text": [
            "_________________________________________________________________\n",
            "Layer (type)                 Output Shape              Param #   \n",
            "=================================================================\n",
            "embedding_1 (Embedding)      (1, None, 256)            21248     \n",
            "_________________________________________________________________\n",
            "cu_dnngru_1 (CuDNNGRU)       (1, None, 1024)           3938304   \n",
            "_________________________________________________________________\n",
            "dense_1 (Dense)              (1, None, 83)             85075     \n",
            "=================================================================\n",
            "Total params: 4,044,627\n",
            "Trainable params: 4,044,627\n",
            "Non-trainable params: 0\n",
            "_________________________________________________________________\n"
          ],
          "name": "stdout"
        }
      ]
    },
    {
      "metadata": {
        "colab_type": "text",
        "id": "DjGz1tDkzf-u"
      },
      "cell_type": "markdown",
      "source": [
        "### The prediction loop\n",
        "\n",
        "The following code block generates the text:\n",
        "\n",
        "* It Starts by choosing a start string, initializing the RNN state and setting the number of characters to generate.\n",
        "\n",
        "* Get the prediction distribution of the next character using the start string and the RNN state.\n",
        "\n",
        "* Then, use a multinomial distribution to calculate the index of the predicted character. Use this predicted character as our next input to the model.\n",
        "\n",
        "* The RNN state returned by the model is fed back into the model so that it now has more context, instead than only one word. After predicting the next word, the modified RNN states are again fed back into the model, which is how it learns as it gets more context from the previously predicted words.\n",
        "\n",
        "\n",
        "![To generate text the model's output is fed back to the input](https://tensorflow.org/tutorials/sequences/images/text_generation_sampling.png)\n",
        "\n",
        "Looking at the generated text, you'll see the model knows when to capitalize, make paragraphs and imitates a Shakespeare-like writing vocabulary. With the small number of training epochs, it has not yet learned to form coherent sentences."
      ]
    },
    {
      "metadata": {
        "colab_type": "code",
        "id": "WvuwZBX5Ogfd",
        "colab": {}
      },
      "cell_type": "code",
      "source": [
        "def generate_text(model, start_string):\n",
        "  # Evaluation step (generating text using the learned model)\n",
        "\n",
        "  # Number of characters to generate\n",
        "  num_generate = 1000\n",
        "\n",
        "  # Converting our start string to numbers (vectorizing) \n",
        "  input_eval = [char2idx[s] for s in start_string]\n",
        "  input_eval = tf.expand_dims(input_eval, 0)\n",
        "\n",
        "  # Empty string to store our results\n",
        "  text_generated = []\n",
        "\n",
        "  # Low temperatures results in more predictable text.\n",
        "  # Higher temperatures results in more surprising text.\n",
        "  # Experiment to find the best setting.\n",
        "  temperature = 1.0\n",
        "\n",
        "  # Here batch size == 1\n",
        "  model.reset_states()\n",
        "  for i in tqdm(range(num_generate)):\n",
        "      predictions = model(input_eval)\n",
        "      # remove the batch dimension\n",
        "      predictions = tf.squeeze(predictions, 0)\n",
        "\n",
        "      # using a multinomial distribution to predict the word returned by the model\n",
        "      predictions = predictions / temperature\n",
        "      predicted_id = tf.multinomial(predictions, num_samples=1)[-1,0].numpy()\n",
        "      \n",
        "      # We pass the predicted word as the next input to the model\n",
        "      # along with the previous hidden state\n",
        "      input_eval = tf.expand_dims([predicted_id], 0)\n",
        "      \n",
        "      text_generated.append(idx2char[predicted_id])\n",
        "\n",
        "  return (start_string + ''.join(text_generated))"
      ],
      "execution_count": 0,
      "outputs": []
    },
    {
      "metadata": {
        "colab_type": "code",
        "id": "ktovv0RFhrkn",
        "outputId": "3bdea05e-3241-4881-8d86-e26a07b9230a",
        "colab": {
          "base_uri": "https://localhost:8080/",
          "height": 1071
        }
      },
      "cell_type": "code",
      "source": [
        "# Experiment by changing the start string\n",
        "print(generate_text(model, start_string=\"X\"))"
      ],
      "execution_count": 37,
      "outputs": [
        {
          "output_type": "display_data",
          "data": {
            "text/plain": [
              "<tqdm._fake_ipywidgets.HBox object>"
            ],
            "text/html": [
              "<div style=\"display:flex;flex-direction:row;\"><span></span><progress style='margin:2px 4px;' max='1000' value='1000'></progress>100% 1000/1000 [00:05&lt;00:00, 173.99it/s]</div>"
            ]
          },
          "metadata": {
            "tags": []
          }
        },
        {
          "output_type": "stream",
          "text": [
            "X:4\n",
            "M:C\n",
            "L:1/8\n",
            "K:B Major\n",
            "A>B|D2e dBG|AFD ABc|dfe d2f|!\n",
            "AFG GED|DED BAB|GFD G2:|!\n",
            "d|cea gag|fef dBc|d3 d2G|E2A B2:|!\n",
            "e|f2A BAG|F2A dBc|dA3 dBd|cEA G3:|!\n",
            "\n",
            "X:31\n",
            "T:Loush Toy'4\n",
            "Z: id:dc-serdpel-23\n",
            "M:C\n",
            "L:1/8\n",
            "K:D Mixolydian\n",
            "G2|D2G2 D2c2|d3 AFD|FAA Add|efe eAF|GFE A2:|!\n",
            "\n",
            "X:10\n",
            "T:Karkery\n",
            "Z: id:dc-reel-53\n",
            "M:C\n",
            "L:1/8\n",
            "K:D Major\n",
            "GE|DGA ddB|AcF GAF|D FDG FG:|!\n",
            "A|B2e dBG|AdE FDA|!\n",
            "edA Bcd efc|dBc def|edd BcA|G3 G3|]!\n",
            "\n",
            "X:111\n",
            "T:Nelk Fion\n",
            "Z: id:dc-reel-38\n",
            "M:C\n",
            "L:1/8\n",
            "K:D Major\n",
            "G|EDG2 G2de|fdcA GE FcAB|B2GA AdBG|!\n",
            "d3g d2gd|Bded ^3cd|edfd edce|dfed e3:|!\n",
            "e|f3 agE|ecd A2d|cec|e2c-onanlep-30\n",
            "M:C\n",
            "L:1/8\n",
            "K:G Major\n",
            "C|EDE2 B,ED2|C\n",
            "FDA FAFA|d2fd eddB|Acde fafa|gfed B3d|c3A BGEG|ABdc BAG2:|!\n",
            "\n",
            "X:143\n",
            "T:Grlar\n",
            "Z: id:dc-setpoune-5\n",
            "M:C/\n",
            "L:1/8\n",
            "K:D Major\n",
            "E|GABd cBAB|ceec dGBc|(3dB2 D2:2|fef gef|def g2d|fab gaa|fef d2B|!\n",
            "gB ed|c>G BG|AD G2:|!\n",
            "\n",
            "X:5\n",
            "T:KiC Maskig thg Soinom in the Stip\n",
            "Z: id:dc-setlante-18\n",
            "M:C|\n",
            "L:1/8\n",
            "K:A Dorian\n",
            "A3|DEG2 FAGA|B3G AGFD|GAGG DGAB|c2ce af=Fey|dcdc FGBc|BGFG AGF|!\n",
            "dAG ADE|G2d e2f|eac dcc|a3 A3|!\n",
            "E3 A d2|\n"
          ],
          "name": "stdout"
        }
      ]
    },
    {
      "metadata": {
        "colab_type": "text",
        "id": "AM2Uma_-yVIq"
      },
      "cell_type": "markdown",
      "source": [
        "The easiest thing you can do to improve the results it to train it for longer (try `EPOCHS=30`).\n",
        "\n",
        "You can also experiment with a different start string, or try adding another RNN layer to improve the model's accuracy, or adjusting the temperature parameter to generate more or less random predictions."
      ]
    }
  ]
}