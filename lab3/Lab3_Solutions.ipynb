{
  "nbformat": 4,
  "nbformat_minor": 0,
  "metadata": {
    "colab": {
      "name": "rl.ipynb",
      "version": "0.3.2",
      "provenance": [],
      "collapsed_sections": []
    },
    "kernelspec": {
      "name": "python2",
      "display_name": "Python 2"
    },
    "accelerator": "GPU"
  },
  "cells": [
    {
      "metadata": {
        "id": "xk5qeNPWCm00",
        "colab_type": "code",
        "colab": {}
      },
      "cell_type": "code",
      "source": [
        "!apt-get install -y xvfb python-opengl > /dev/null 2>&1\n",
        "!pip install gym pyvirtualdisplay scikit-video > /dev/null 2>&1\n",
        "\n",
        "import tensorflow as tf\n",
        "tf.enable_eager_execution()\n",
        "\n",
        "import gym\n",
        "import numpy as np\n",
        "import matplotlib.pyplot as plt\n",
        "from IPython import display as ipythondisplay\n",
        "import time"
      ],
      "execution_count": 0,
      "outputs": []
    },
    {
      "metadata": {
        "id": "BzTZun2TDFn5",
        "colab_type": "code",
        "colab": {}
      },
      "cell_type": "code",
      "source": [
        "# from pyvirtualdisplay import Display\n",
        "# display = Display(visible=0, size=(400, 300))\n",
        "# display.start()"
      ],
      "execution_count": 0,
      "outputs": []
    },
    {
      "metadata": {
        "id": "WoXYKhfZMHiw",
        "colab_type": "text"
      },
      "cell_type": "markdown",
      "source": [
        "# Reinforcement Learning\n",
        "\n",
        "TODO: a short RL intro.  \n",
        "![alt text](https://www.kdnuggets.com/images/reinforcement-learning-fig1-700.jpg)\n",
        "\n",
        "## Why do we care about games? \n",
        "While the ultimate goal of reinforcement learning is to teach agents to act in the real, physical world, games provide a set of very useful properties that we also care about: \n",
        "\n",
        "1.   In many cases, games have perfectly describable enviornments. For example, all rules of chess can be formally written and programmed into a chess game simulator;\n",
        "2.   Massively parallelizable. Do not require running in the real world, therefore simultaneous environments can be run on large data clusters; \n",
        "3.   Fast prototyping of algorithms on simpler scenarios can speed up the development of algorithms that could eventually run in the real-world; and\n",
        "4.   ..... Games are fun! \n",
        "\n",
        "In this lab, we focus on building a model-free reinforcement learning algorithm to master two different enviornments with varying complexity. \n",
        "\n",
        "\n",
        "1.   **Cartpole:   Balance a pole in an upright position by only moving your base left or right. Low-dimensional observation space.**\n",
        "2.   **Pong:   Beat a classical AI system designed at the game of Pong. High-dimensional observational space -- learning directly from raw pixels!  **\n"
      ]
    },
    {
      "metadata": {
        "id": "UT7YL8KBJIIc",
        "colab_type": "text"
      },
      "cell_type": "markdown",
      "source": [
        "##  Cartpole\n",
        "\n",
        "### Define and inspect the environment"
      ]
    },
    {
      "metadata": {
        "id": "quv9SC0iIYFm",
        "colab_type": "code",
        "outputId": "024cdcfb-7688-4241-8edb-ccbba3058a5d",
        "colab": {
          "base_uri": "https://localhost:8080/",
          "height": 89
        }
      },
      "cell_type": "code",
      "source": [
        "env = gym.make(\"CartPole-v0\")\n",
        "env.seed(1) # reproducible, since RL has high variance"
      ],
      "execution_count": 3,
      "outputs": [
        {
          "output_type": "stream",
          "text": [
            "/usr/local/lib/python2.7/dist-packages/gym/envs/registration.py:14: PkgResourcesDeprecationWarning: Parameters to load are deprecated.  Call .resolve and .require separately.\n",
            "  result = entry_point.load(False)\n"
          ],
          "name": "stderr"
        },
        {
          "output_type": "execute_result",
          "data": {
            "text/plain": [
              "[1L]"
            ]
          },
          "metadata": {
            "tags": []
          },
          "execution_count": 3
        }
      ]
    },
    {
      "metadata": {
        "id": "mhEITUcKK455",
        "colab_type": "text"
      },
      "cell_type": "markdown",
      "source": [
        "observations: \n",
        "1. position of cart\n",
        "2. velocity of cart\n",
        "3. angle of pole\n",
        "4. rotation rate of pole\n",
        "\n",
        "We can confirm the size of the space by querying the observation space\n"
      ]
    },
    {
      "metadata": {
        "id": "UVJaEcbdIX82",
        "colab_type": "code",
        "outputId": "40f1051d-5824-4e3f-b57d-636a7cb647b9",
        "colab": {
          "base_uri": "https://localhost:8080/",
          "height": 35
        }
      },
      "cell_type": "code",
      "source": [
        "print \"Enviornment has observation space = {}\".format(env.observation_space)"
      ],
      "execution_count": 4,
      "outputs": [
        {
          "output_type": "stream",
          "text": [
            "Enviornment has observation space = Box(4,)\n"
          ],
          "name": "stdout"
        }
      ]
    },
    {
      "metadata": {
        "id": "ZibGgjrALgPM",
        "colab_type": "text"
      },
      "cell_type": "markdown",
      "source": [
        "At every time step, the agent can move either right or left. Again, we can confirm the size of the action space again by querying the environment"
      ]
    },
    {
      "metadata": {
        "id": "qc9SIPxBIXrm",
        "colab_type": "code",
        "outputId": "486c1aaf-0b15-4fc6-c970-7d3ea1902125",
        "colab": {
          "base_uri": "https://localhost:8080/",
          "height": 35
        }
      },
      "cell_type": "code",
      "source": [
        "n_actions = env.action_space.n\n",
        "print \"Number of possible actions that the agent can choose from = {}\".format(n_actions)"
      ],
      "execution_count": 5,
      "outputs": [
        {
          "output_type": "stream",
          "text": [
            "Number of possible actions that the agent can choose from = 2\n"
          ],
          "name": "stdout"
        }
      ]
    },
    {
      "metadata": {
        "id": "pPfHME8aRKkb",
        "colab_type": "text"
      },
      "cell_type": "markdown",
      "source": [
        "### Define the Agent\n",
        "\n",
        "Let's define our agent, which is simply a deep neural network which takes as input an observation of the enviornment and outputs the probability of taking each of the possible actions. \n"
      ]
    },
    {
      "metadata": {
        "id": "W-o_XK4oQ4eu",
        "colab_type": "code",
        "colab": {}
      },
      "cell_type": "code",
      "source": [
        "def create_cartpole_model():\n",
        "  model = tf.keras.models.Sequential([\n",
        "      tf.keras.layers.Dense(units=32, activation='relu'),\n",
        "      tf.keras.layers.Dense(units=n_actions, activation=None)\n",
        "  ])\n",
        "  return model\n",
        "\n",
        "cartpole_model = create_cartpole_model()"
      ],
      "execution_count": 0,
      "outputs": []
    },
    {
      "metadata": {
        "id": "d5D5NSIYS2IW",
        "colab_type": "text"
      },
      "cell_type": "markdown",
      "source": [
        "Define the action function that executes a forward pass through the network and samples from the output. Take special note of the output activation of the model."
      ]
    },
    {
      "metadata": {
        "id": "E_vVZRr8Q4R_",
        "colab_type": "code",
        "colab": {}
      },
      "cell_type": "code",
      "source": [
        "def choose_action(model, observation):\n",
        "    \n",
        "  observation = observation.reshape([1, -1])\n",
        "  logits = model.predict(observation)\n",
        "\n",
        "  prob_weights = tf.nn.softmax(logits).numpy()\n",
        "\n",
        "  action = np.random.choice(n_actions, size=1, p=prob_weights.flatten())[0]\n",
        "\n",
        "  return action"
      ],
      "execution_count": 0,
      "outputs": []
    },
    {
      "metadata": {
        "id": "_tR9uAWcTnkr",
        "colab_type": "text"
      },
      "cell_type": "markdown",
      "source": [
        "### Create the agent's memory\n",
        "\n",
        "During training, the agent will need to remember all of its observations, actions so that once the episode ends, it can \"reinforce\" the good actions and punish the undesirable actions. Let's do this by defining a simple memory buffer that contains the "
      ]
    },
    {
      "metadata": {
        "id": "8MM6JwXVQ4JG",
        "colab_type": "code",
        "colab": {}
      },
      "cell_type": "code",
      "source": [
        "class Memory:\n",
        "  def __init__(self): \n",
        "      self.clear()\n",
        "\n",
        "  def clear(self): \n",
        "      self.observations = []\n",
        "      self.actions = []\n",
        "      self.rewards = []\n",
        "\n",
        "  def add_to_memory(self, new_observation, new_action, new_reward): \n",
        "      self.observations.append(new_observation)\n",
        "      self.actions.append(new_action)\n",
        "      self.rewards.append(new_reward)\n",
        "        \n",
        "memory = Memory()"
      ],
      "execution_count": 0,
      "outputs": []
    },
    {
      "metadata": {
        "id": "D4YhtPaUVj5m",
        "colab_type": "text"
      },
      "cell_type": "markdown",
      "source": [
        "We're almost ready to begin the learning algorithm for our agent! The final step is to compute the discounted rewards of our agent. Recall from lecture, we use reward discount to give more preference at getting rewards now rather than later in the future. The idea of discounting rewards is similar to discounting money in the case of interest and can be defined as: \n",
        "\n",
        "TODO: put the equation for discounted rewards here\n"
      ]
    },
    {
      "metadata": {
        "id": "5_Q2OFYtQ32X",
        "colab_type": "code",
        "colab": {}
      },
      "cell_type": "code",
      "source": [
        "def normalize(x):\n",
        "  x -= np.mean(x)\n",
        "  x -= np.std(x)\n",
        "  return x\n",
        "\n",
        "def discount_rewards(rewards, gamma=0.95): \n",
        "  discounted_rewards = np.zeros_like(rewards)\n",
        "  R = 0\n",
        "  for t in reversed(range(0, len(rewards))):\n",
        "      R = R * gamma + rewards[t]\n",
        "      discounted_rewards[t] = R\n",
        "      \n",
        "  return normalize(discounted_rewards)"
      ],
      "execution_count": 0,
      "outputs": []
    },
    {
      "metadata": {
        "id": "A6IcAnXQX8hz",
        "colab_type": "text"
      },
      "cell_type": "markdown",
      "source": [
        "Also, let's define a normalizing function to normalize our rewards to be zero-centered with standard deviation of one for stability while training. "
      ]
    },
    {
      "metadata": {
        "id": "QzbY-mjGYcmt",
        "colab_type": "text"
      },
      "cell_type": "markdown",
      "source": [
        "### Define the learning algorithm\n",
        "\n",
        "Start by defining the optimizer we want to use."
      ]
    },
    {
      "metadata": {
        "id": "m3u6xDNMY0zg",
        "colab_type": "code",
        "colab": {}
      },
      "cell_type": "code",
      "source": [
        "learning_rate = 1e-3\n",
        "optimizer = tf.train.AdamOptimizer(learning_rate)"
      ],
      "execution_count": 0,
      "outputs": []
    },
    {
      "metadata": {
        "id": "M-LJwWqTZegG",
        "colab_type": "text"
      },
      "cell_type": "markdown",
      "source": [
        "And now let's define the loss function. In this lab we are focusing on policy gradient methods which aim to **maximize** the likelihood of actions that result in large rewards. Equivalently, this means that we want to **minimize** the negative likelihood of these same actions. Like in supervised learning, we can use stochastic gradient descent methods to achieve this minimization. \n",
        "\n",
        "Since the log function is monotonically increasing, this means that minimizing negative **likelihood** is equivalent to minimizing negative **log-likelihood**.  Recall that we can easily compute the negative log-likelihood of an discrete action by evaluting its softmax cross entropy (https://www.tensorflow.org/api_docs/python/tf/nn/sparse_softmax_cross_entropy_with_logits) "
      ]
    },
    {
      "metadata": {
        "id": "fsgZ3IDCY_Zn",
        "colab_type": "code",
        "colab": {}
      },
      "cell_type": "code",
      "source": [
        "def compute_loss(logits, actions, rewards): \n",
        "  neg_logprob = tf.nn.sparse_softmax_cross_entropy_with_logits(logits=logits, labels=actions)\n",
        "  loss = tf.reduce_mean( neg_logprob * rewards )\n",
        "  return loss"
      ],
      "execution_count": 0,
      "outputs": []
    },
    {
      "metadata": {
        "id": "Rr5vQ9fqbPpp",
        "colab_type": "text"
      },
      "cell_type": "markdown",
      "source": [
        "Now let's use the loss function to define a backpropogation step of our learning algorithm."
      ]
    },
    {
      "metadata": {
        "id": "8Bl_4O1KjN-t",
        "colab_type": "code",
        "colab": {}
      },
      "cell_type": "code",
      "source": [
        "import pdb"
      ],
      "execution_count": 0,
      "outputs": []
    },
    {
      "metadata": {
        "id": "_50ada7nbZ7L",
        "colab_type": "code",
        "colab": {}
      },
      "cell_type": "code",
      "source": [
        "def train_step(model, optimizer, observations, actions, discounted_rewards):\n",
        "  with tf.GradientTape() as tape:\n",
        "      # Forward propogate through the agent\n",
        "      observations = tf.convert_to_tensor(observations, dtype=tf.float32)\n",
        "      logits = model(observations)\n",
        "\n",
        "      # Compute the loss\n",
        "      loss = compute_loss(logits, actions, discounted_rewards)\n",
        "\n",
        "  # Backpropagation\n",
        "  grads = tape.gradient(loss, model.variables)\n",
        "  optimizer.apply_gradients(zip(grads, model.variables), global_step=tf.train.get_or_create_global_step())"
      ],
      "execution_count": 0,
      "outputs": []
    },
    {
      "metadata": {
        "id": "XsjKXh6BcgjR",
        "colab_type": "text"
      },
      "cell_type": "markdown",
      "source": [
        "### Let the agent go and watch it learn from scratch!"
      ]
    },
    {
      "metadata": {
        "id": "XmOzc2rrcn8Q",
        "colab_type": "code",
        "colab": {}
      },
      "cell_type": "code",
      "source": [
        "def plot_progress(x):\n",
        "  plt.cla()\n",
        "  plt.plot(x)\n",
        "  plt.xlabel('# Episodes'); plt.ylabel('Reward')\n",
        "  ipythondisplay.clear_output(wait=True)\n",
        "  ipythondisplay.display(plt.gcf())\n",
        "\n",
        "\n",
        "cartpole_model = create_cartpole_model()\n",
        "MAX_ITERS = 1000\n",
        "alpha = 0.9\n",
        "\n",
        "smoothed_reward = []\n",
        "tic = time.time()\n",
        "for i_episode in range(MAX_ITERS):\n",
        "\n",
        "  if time.time()-tic > 5: #plot every 5 seconds\n",
        "      plot_progress(smoothed_reward)\n",
        "      tic = time.time()\n",
        "\n",
        "  # Restart the environment\n",
        "  observation = env.reset()\n",
        "\n",
        "  while True:\n",
        "      action = choose_action(cartpole_model, observation)\n",
        "      next_observation, reward, done, info = env.step(action)\n",
        "      memory.add_to_memory(observation, action, reward)\n",
        "\n",
        "      if done:\n",
        "          total_reward = sum(memory.rewards)\n",
        "          smoothed_reward.append( alpha*smoothed_reward[-1] + (1-alpha)*total_reward if len(smoothed_reward)>0 else total_reward )\n",
        "\n",
        "          train_step(cartpole_model, \n",
        "                     optimizer, \n",
        "                     observations = np.vstack(memory.observations),\n",
        "                     actions = np.array(memory.actions),\n",
        "                     discounted_rewards = discount_rewards(memory.rewards))\n",
        "          \n",
        "          memory.clear()\n",
        "          break\n",
        "\n",
        "      observation = next_observation"
      ],
      "execution_count": 0,
      "outputs": []
    },
    {
      "metadata": {
        "id": "M40RoTBxo3HD",
        "colab_type": "code",
        "colab": {
          "base_uri": "https://localhost:8080/",
          "height": 35
        },
        "outputId": "1c18b747-8fd1-4e24-a2f8-4e2f86c4fa1a"
      },
      "cell_type": "code",
      "source": [
        "def save_video_of_model(model, env_name, filename='agent.mp4'):  \n",
        "  import skvideo.io\n",
        "  from pyvirtualdisplay import Display\n",
        "  display = Display(visible=0, size=(40, 30))\n",
        "  display.start()\n",
        "\n",
        "  env = gym.make(env_name)\n",
        "  obs = env.reset()\n",
        "  shape = env.render(mode='rgb_array').shape[0:2]\n",
        "\n",
        "  out = skvideo.io.FFmpegWriter(\"agent2.mp4\")\n",
        "\n",
        "  done = False\n",
        "  while not done: \n",
        "      frame = env.render(mode='rgb_array')\n",
        "      out.writeFrame(frame)\n",
        "      \n",
        "      action = model(tf.convert_to_tensor(obs.reshape((1,-1)), tf.float32)).numpy().argmax()\n",
        "      obs, reward, done, info = env.step(action)\n",
        "  out.close()\n",
        "  print \"Successfully saved into {}!\".format(filename)\n",
        "\n",
        "save_video_of_model(cartpole_model, \"CartPole-v0\")"
      ],
      "execution_count": 16,
      "outputs": [
        {
          "output_type": "stream",
          "text": [
            "Success!\n"
          ],
          "name": "stdout"
        }
      ]
    },
    {
      "metadata": {
        "id": "DBjhWQ0XwQ1d",
        "colab_type": "code",
        "outputId": "ee5e17a2-acc6-4d06-8dcf-6b8c79b0cc2c",
        "colab": {
          "base_uri": "https://localhost:8080/",
          "height": 422
        }
      },
      "cell_type": "code",
      "source": [
        "from IPython.display import HTML\n",
        "import io, base64\n",
        "video = io.open('./agent2.mp4', 'r+b').read()\n",
        "encoded = base64.b64encode(video)\n",
        "HTML(data='''\n",
        "<video controls>\n",
        "    <source src=\"data:video/mp4;base64,{0}\" type=\"video/mp4\" />\n",
        "</video>'''.format(encoded.decode('ascii')))"
      ],
      "execution_count": 17,
      "outputs": [
        {
          "output_type": "execute_result",
          "data": {
            "text/html": [
              "\n",
              "<video controls>\n",
              "    <source src=\"data:video/mp4;base64,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\" type=\"video/mp4\" />\n",
              "</video>"
            ],
            "text/plain": [
              "<IPython.core.display.HTML object>"
            ]
          },
          "metadata": {
            "tags": []
          },
          "execution_count": 17
        }
      ]
    },
    {
      "metadata": {
        "id": "Eu6Mqxc720ST",
        "colab_type": "text"
      },
      "cell_type": "markdown",
      "source": [
        "## Pong"
      ]
    },
    {
      "metadata": {
        "id": "sH2YjDzgqFXC",
        "colab_type": "code",
        "colab": {}
      },
      "cell_type": "code",
      "source": [
        ""
      ],
      "execution_count": 0,
      "outputs": []
    }
  ]
}